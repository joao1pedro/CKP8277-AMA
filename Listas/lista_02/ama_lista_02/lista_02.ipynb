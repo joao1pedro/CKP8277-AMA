{
 "cells": [
  {
   "cell_type": "markdown",
   "id": "f7731a4d",
   "metadata": {},
   "source": [
    "# Questão 1\n",
    "Considere o conjunto de dados disponível em breastcancer.csv, organizado em 31 colunas, sendo as 30 primeiras colunas os atributos e a última coluna a saída. Os 30 atributos coletados de exames médicos são usados no diagnóstico do câncer de mama, sendo 1 a classe positiva e 0 a classe negativa. Maiores detalhes sobre os dados podem ser conferidos em https://scikit-learn.org/stable/datasets/toy_dataset.html#breast-cancer-dataset."
   ]
  },
  {
   "cell_type": "markdown",
   "id": "6c0d9eed",
   "metadata": {},
   "source": [
    "a. Considerando uma validação cruzada em 10 folds, avalie modelos de classificação binária nos dados em questão. Para tanto, use as abordagens abaixo:\n",
    "- Regressão logística (treinado com GD ou SGD);\n",
    "- Análise do discriminante Gaussiano;\n",
    "- Naive Bayes Gaussiano;\n",
    "\n",
    "b. Para cada modelo criado, reporte valor médio e desvio padrão da acurácia\n",
    "global e da acurácia por classe."
   ]
  },
  {
   "cell_type": "code",
   "execution_count": 1,
   "id": "2e483fc7",
   "metadata": {},
   "outputs": [],
   "source": [
    "import numpy as np\n",
    "import matplotlib.pyplot as plt"
   ]
  },
  {
   "cell_type": "markdown",
   "id": "b55622a5",
   "metadata": {},
   "source": [
    "## Regressão logística - GD"
   ]
  },
  {
   "cell_type": "code",
   "execution_count": 2,
   "id": "565b33ec",
   "metadata": {},
   "outputs": [],
   "source": [
    "class LogisticRegressionGD:\n",
    "    def __init__(self, alpha=1e-1, num_epochs=1000):\n",
    "        self.alpha = alpha\n",
    "        self.num_epochs = num_epochs\n",
    "        self.w = None\n",
    "        self.mean = None\n",
    "        self.std = None\n",
    "        self.losses = []\n",
    "\n",
    "    def sigmoid(self, z):\n",
    "        z = (1) / (1 + np.exp(-z))\n",
    "        return z\n",
    "\n",
    "    def cross_entropy(self, y, y_pred):\n",
    "        epsilon = 1e-15\n",
    "        y_pred = np.clip(y_pred, epsilon, 1 - epsilon)\n",
    "        loss = -np.mean(y * np.log(y_pred) + (1 - y) * np.log(1 - y_pred))\n",
    "        return loss\n",
    "    \n",
    "    def normalize(self, X):\n",
    "        self.mean = np.mean(X, axis=0)\n",
    "        self.std = np.std(X, axis=0)\n",
    "        return (X - self.mean) / self.std\n",
    "\n",
    "    def fit(self, X, y):\n",
    "        N = X.shape[0]\n",
    "        X_norm = self.normalize(X)\n",
    "        y = y.reshape(-1, 1)\n",
    "        X_b = np.c_[np.ones((N, 1)), X_norm]\n",
    "        self.w = np.random.randn(X_b.shape[1], 1)\n",
    "        self.losses = []\n",
    "\n",
    "        for epoch in range(self.num_epochs):\n",
    "            z = X_b @ self.w\n",
    "            y_pred = self.sigmoid(z)\n",
    "            loss = self.cross_entropy(y, y_pred)\n",
    "            self.losses.append(loss)\n",
    "            gradient = (1 / N) * X_b.T @ (y_pred - y)\n",
    "            self.w -= self.alpha * gradient\n",
    "            # print(f\"Época: {epoch}; Loss: {loss:.4f}\")\n",
    "\n",
    "    def predict(self, X):\n",
    "        X_norm = (X - self.mean) / self.std\n",
    "        X_b = np.c_[np.ones((X.shape[0], 1)), X_norm]\n",
    "        probs = self.sigmoid(X_b @ self.w)\n",
    "        return (probs >= 0.5).astype(int)"
   ]
  },
  {
   "cell_type": "code",
   "execution_count": 3,
   "id": "dcf4bb9a",
   "metadata": {},
   "outputs": [],
   "source": [
    "def accuracy(y_true, y_pred):\n",
    "    return np.mean(y_true.flatten() == y_pred.flatten())\n",
    "\n",
    "def per_class_accuracy(y_true, y_pred):\n",
    "    classes = np.unique(y_true)\n",
    "    accs = {}\n",
    "    for cls in classes:\n",
    "        cls_idx = (y_true.flatten() == cls)\n",
    "        accs[cls] = np.mean(y_pred.flatten()[cls_idx] == y_true.flatten()[cls_idx])\n",
    "    return accs\n",
    "\n",
    "def mean_per_class_accuracy(accs_por_classe, classes):\n",
    "    per_class_avg = {}\n",
    "    for cls in classes:\n",
    "        cls_accs = [fold_acc.get(cls, 0.0) for fold_acc in accs_por_classe]\n",
    "        per_class_avg[cls] = np.mean(cls_accs)\n",
    "    return per_class_avg\n",
    "\n",
    "def k_fold_split(X, y, k=10, seed=42):\n",
    "    np.random.seed(seed)\n",
    "    idx = np.arange(X.shape[0])\n",
    "    np.random.shuffle(idx)\n",
    "\n",
    "    fold_sizes = np.full(k, X.shape[0] // k)\n",
    "    fold_sizes[:X.shape[0] % k] += 1\n",
    "\n",
    "    current = 0\n",
    "    folds = []\n",
    "\n",
    "    for fold_size in fold_sizes:\n",
    "        start, stop = current, current + fold_size\n",
    "        val_idx = idx[start:stop]\n",
    "        train_idx = np.concatenate([idx[:start], idx[stop:]])\n",
    "        folds.append((train_idx, val_idx))\n",
    "        current = stop\n",
    "\n",
    "    return folds\n",
    "\n",
    "def split_train_test(X, y, train_size=0.7, seed=42):\n",
    "    np.random.seed(seed)\n",
    "    N = X.shape[0]\n",
    "    indices = np.random.permutation(N)\n",
    "\n",
    "    train_end = int(train_size * N)\n",
    "    train_idx = indices[:train_end]\n",
    "    test_idx = indices[train_end:]\n",
    "\n",
    "    X_train, y_train = X[train_idx], y[train_idx]\n",
    "    X_test, y_test = X[test_idx], y[test_idx]\n",
    "\n",
    "    return X_train, y_train, X_test, y_test\n",
    "\n",
    "def cross_validate_model(ModelClass, X, y, k=10, **kwargs):\n",
    "    folds = k_fold_split(X, y, k)\n",
    "    accuracies = []\n",
    "    acc_class_0 = []\n",
    "    acc_class_1 = []\n",
    "\n",
    "    for fold_idx, (train_idx, val_idx) in enumerate(folds):\n",
    "        X_train, y_train = X[train_idx], y[train_idx]\n",
    "        X_val, y_val = X[val_idx], y[val_idx]\n",
    "\n",
    "        model = ModelClass(**kwargs)\n",
    "        model.fit(X_train, y_train)\n",
    "        y_pred = model.predict(X_val)\n",
    "\n",
    "        acc = accuracy(y_val, y_pred)\n",
    "        accuracies.append(acc)\n",
    "\n",
    "        accs = per_class_accuracy(y_val, y_pred)\n",
    "        acc_class_0.append(accs.get(0, 0.0))\n",
    "        acc_class_1.append(accs.get(1, 0.0))\n",
    "\n",
    "        print(f\"Fold {fold_idx + 1} - Acurácia: {acc:.4f} | Classe 0: {acc_class_0[-1]:.4f} | Classe 1: {acc_class_1[-1]:.4f}\")\n",
    "\n",
    "    print(f\"\\nAcurácia Global: Média = {np.mean(accuracies):.4f}, Desvio Padrão = {np.std(accuracies):.4f}\")\n",
    "    print(f\"Acurácia Classe 0: Média = {np.mean(acc_class_0):.4f}, Desvio Padrão = {np.std(acc_class_0):.4f}\")\n",
    "    print(f\"Acurácia Classe 1: Média = {np.mean(acc_class_1):.4f}, Desvio Padrão = {np.std(acc_class_1):.4f}\")\n",
    "\n",
    "    return accuracies, acc_class_0, acc_class_1\n"
   ]
  },
  {
   "cell_type": "code",
   "execution_count": 4,
   "id": "601230c4",
   "metadata": {},
   "outputs": [],
   "source": [
    "data = np.loadtxt('./breastcancer.csv', delimiter=',')\n",
    "\n",
    "X = data[:, :-1]\n",
    "y = data[:, -1].astype(int)\n",
    "\n",
    "X_trainval, y_trainval, X_test, y_test = split_train_test(X, y, train_size=0.7)"
   ]
  },
  {
   "cell_type": "code",
   "execution_count": 5,
   "id": "7df594a9",
   "metadata": {},
   "outputs": [
    {
     "name": "stdout",
     "output_type": "stream",
     "text": [
      "Regressão Logística - GD\n",
      "\n",
      "[CONJUNTO DE VALIDAÇÃO]\n",
      "Fold 1 - Acurácia: 0.9750 | Classe 0: 1.0000 | Classe 1: 0.9333\n",
      "Fold 2 - Acurácia: 0.9750 | Classe 0: 1.0000 | Classe 1: 0.8750\n",
      "Fold 3 - Acurácia: 0.9500 | Classe 0: 1.0000 | Classe 1: 0.8182\n",
      "Fold 4 - Acurácia: 0.9750 | Classe 0: 0.9600 | Classe 1: 1.0000\n",
      "Fold 5 - Acurácia: 0.9750 | Classe 0: 1.0000 | Classe 1: 0.9286\n",
      "Fold 6 - Acurácia: 0.9750 | Classe 0: 0.9600 | Classe 1: 1.0000\n",
      "Fold 7 - Acurácia: 0.9750 | Classe 0: 0.9583 | Classe 1: 1.0000\n",
      "Fold 8 - Acurácia: 0.9750 | Classe 0: 0.9630 | Classe 1: 1.0000\n",
      "Fold 9 - Acurácia: 0.9231 | Classe 0: 0.9200 | Classe 1: 0.9286\n",
      "Fold 10 - Acurácia: 0.9487 | Classe 0: 1.0000 | Classe 1: 0.8947\n",
      "\n",
      "Acurácia Global: Média = 0.9647, Desvio Padrão = 0.0172\n",
      "Acurácia Classe 0: Média = 0.9761, Desvio Padrão = 0.0265\n",
      "Acurácia Classe 1: Média = 0.9378, Desvio Padrão = 0.0598\n"
     ]
    }
   ],
   "source": [
    "alpha = 1e-1\n",
    "num_epochs = 1000\n",
    "\n",
    "print(\"Regressão Logística - GD\")\n",
    "print(f\"\\n[CONJUNTO DE VALIDAÇÃO]\")\t\n",
    "\n",
    "accuracies_log_reg, acc_class_0_log_regr, acc_class_1_log_reg = cross_validate_model(LogisticRegressionGD,X=X_trainval, y=y_trainval, k=10, alpha=alpha, num_epochs=num_epochs)"
   ]
  },
  {
   "cell_type": "code",
   "execution_count": 6,
   "id": "4c4346db",
   "metadata": {},
   "outputs": [
    {
     "data": {
      "image/png": "[encoded data removed]",
      "text/plain": [
       "<Figure size 800x500 with 1 Axes>"
      ]
     },
     "metadata": {},
     "output_type": "display_data"
    }
   ],
   "source": [
    "model_final = LogisticRegressionGD(alpha=alpha, num_epochs=num_epochs)\n",
    "model_final.fit(X_trainval, y_trainval)\n",
    "\n",
    "plt.figure(figsize=(8, 5))\n",
    "plt.plot(model_final.losses, label='Loss')\n",
    "plt.xlabel('Época')\n",
    "plt.ylabel('Loss (Cross-Entropy)')\n",
    "plt.title('Curva de Loss (Logistic Regression - GD)')\n",
    "plt.grid(True)\n",
    "plt.legend()\n",
    "plt.tight_layout()\n",
    "plt.show()"
   ]
  },
  {
   "cell_type": "code",
   "execution_count": 7,
   "id": "65599676",
   "metadata": {},
   "outputs": [
    {
     "name": "stdout",
     "output_type": "stream",
     "text": [
      "\n",
      "[CONJUNTO DE TESTE] Regressão Logística - GD (classificação binária)\n",
      "Acurácia Global: 0.9474\n",
      "Acurácia Classe 0: 0.9697\n",
      "Acurácia Classe 1: 0.9167\n"
     ]
    }
   ],
   "source": [
    "y_test_pred = model_final.predict(X_test)\n",
    "\n",
    "\n",
    "test_acc = accuracy(y_test, y_test_pred)\n",
    "\n",
    "test_accs = per_class_accuracy(y_test, y_test_pred)\n",
    "test_acc_class_0 = test_accs.get(0, 0.0)\n",
    "test_acc_class_1 = test_accs.get(1, 0.0)\n",
    "\n",
    "print(f\"\\n[CONJUNTO DE TESTE] Regressão Logística - GD (classificação binária)\")\n",
    "print(f\"Acurácia Global: {test_acc:.4f}\")\n",
    "print(f\"Acurácia Classe 0: {test_acc_class_0:.4f}\")\n",
    "print(f\"Acurácia Classe 1: {test_acc_class_1:.4f}\")"
   ]
  },
  {
   "cell_type": "markdown",
   "id": "629a0b6a",
   "metadata": {},
   "source": [
    "## Análise do discriminante Gaussiano;"
   ]
  },
  {
   "cell_type": "code",
   "execution_count": 8,
   "id": "d93d0769",
   "metadata": {},
   "outputs": [],
   "source": [
    "class GaussianDiscriminantAnalysis:\n",
    "    def fit(self, X, y):\n",
    "        self.classes = np.unique(y)\n",
    "        self.means = {}\n",
    "        self.priors = {}\n",
    "        N, D = X.shape\n",
    "        self.cov = np.zeros((D, D))\n",
    "\n",
    "        for cls in self.classes:\n",
    "            X_cls = X[y.flatten() == cls]\n",
    "            self.means[cls] = np.mean(X_cls, axis=0)\n",
    "            self.priors[cls] = X_cls.shape[0] / N\n",
    "            self.cov += np.cov(X_cls, rowvar=False) * (X_cls.shape[0] - 1)\n",
    "\n",
    "        self.cov /= (N - len(self.classes))\n",
    "        self.cov_inv = np.linalg.inv(self.cov)\n",
    "\n",
    "    def predict(self, X):\n",
    "        scores = []\n",
    "        for cls in self.classes:\n",
    "            mean = self.means[cls]\n",
    "            prior = self.priors[cls]\n",
    "            score = X @ self.cov_inv @ mean - 0.5 * mean.T @ self.cov_inv @ mean + np.log(prior)\n",
    "            scores.append(score)\n",
    "        scores = np.array(scores)\n",
    "        return np.argmax(scores, axis=0).reshape(-1, 1)"
   ]
  },
  {
   "cell_type": "code",
   "execution_count": 9,
   "id": "5d4ae27a",
   "metadata": {},
   "outputs": [],
   "source": [
    "def accuracy_per_class(y_true, y_pred):\n",
    "    classes = np.unique(y_true)\n",
    "    accs = {}\n",
    "\n",
    "    for c in classes:\n",
    "        idx = (y_true == c)\n",
    "        acc_c = np.mean(y_pred[idx] == y_true[idx])\n",
    "        accs[c] = acc_c\n",
    "\n",
    "    return accs\n",
    "\n",
    "def compute_metrics(y_true, y_pred):\n",
    "    global_acc = accuracy(y_true, y_pred)\n",
    "    per_class_acc = accuracy_per_class(y_true, y_pred)\n",
    "    return global_acc, per_class_acc\n"
   ]
  },
  {
   "cell_type": "code",
   "execution_count": 10,
   "id": "341ea580",
   "metadata": {},
   "outputs": [
    {
     "name": "stdout",
     "output_type": "stream",
     "text": [
      "Análise Discriminante Gaussiana\n",
      "\n",
      "[CONJUNTO DE VALIDAÇÃO]\n",
      "Fold 1 - Acurácia: 0.9000 | Classe 0: 1.0000 | Classe 1: 0.7333\n",
      "Fold 2 - Acurácia: 0.9000 | Classe 0: 1.0000 | Classe 1: 0.5000\n",
      "Fold 3 - Acurácia: 0.9250 | Classe 0: 1.0000 | Classe 1: 0.7273\n",
      "Fold 4 - Acurácia: 0.9750 | Classe 0: 1.0000 | Classe 1: 0.9333\n",
      "Fold 5 - Acurácia: 1.0000 | Classe 0: 1.0000 | Classe 1: 1.0000\n",
      "Fold 6 - Acurácia: 1.0000 | Classe 0: 1.0000 | Classe 1: 1.0000\n",
      "Fold 7 - Acurácia: 1.0000 | Classe 0: 1.0000 | Classe 1: 1.0000\n",
      "Fold 8 - Acurácia: 0.9500 | Classe 0: 0.9630 | Classe 1: 0.9231\n",
      "Fold 9 - Acurácia: 0.9487 | Classe 0: 1.0000 | Classe 1: 0.8571\n",
      "Fold 10 - Acurácia: 0.9487 | Classe 0: 1.0000 | Classe 1: 0.8947\n",
      "\n",
      "Acurácia Global: Média = 0.9547, Desvio Padrão = 0.0368\n",
      "Acurácia Classe 0: Média = 0.9963, Desvio Padrão = 0.0111\n",
      "Acurácia Classe 1: Média = 0.8569, Desvio Padrão = 0.1525\n"
     ]
    }
   ],
   "source": [
    "print(\"Análise Discriminante Gaussiana\")\n",
    "print(f\"\\n[CONJUNTO DE VALIDAÇÃO]\")\t\n",
    "accuracies_gda, acc_class_0_gda, acc_class_1_gda = cross_validate_model(GaussianDiscriminantAnalysis, X_trainval, y_trainval, k=10)"
   ]
  },
  {
   "cell_type": "code",
   "execution_count": 11,
   "id": "3a880849",
   "metadata": {},
   "outputs": [
    {
     "name": "stdout",
     "output_type": "stream",
     "text": [
      "\n",
      "[CONJUNTO DE TESTE - GDA (Classificação Binária)]\n",
      "Acurácia Global: 0.9357\n",
      "Acurácia Classe 0: 1.0000\n",
      "Acurácia Classe 1: 0.8472\n"
     ]
    }
   ],
   "source": [
    "model_final = GaussianDiscriminantAnalysis()\n",
    "model_final.fit(X_trainval, y_trainval)\n",
    "\n",
    "y_test_pred = model_final.predict(X_test)\n",
    "\n",
    "test_acc = accuracy(y_test, y_test_pred)\n",
    "test_per_class = per_class_accuracy(y_test, y_test_pred)\n",
    "\n",
    "print(f\"\\n[CONJUNTO DE TESTE - GDA (Classificação Binária)]\")\n",
    "print(f\"Acurácia Global: {test_acc:.4f}\")\n",
    "print(f\"Acurácia Classe 0: {test_per_class.get(0, 0):.4f}\")\n",
    "print(f\"Acurácia Classe 1: {test_per_class.get(1, 0):.4f}\")"
   ]
  },
  {
   "cell_type": "markdown",
   "id": "9cf79a86",
   "metadata": {},
   "source": [
    "## Naive Bayes Gaussiano"
   ]
  },
  {
   "cell_type": "code",
   "execution_count": 12,
   "id": "48c35389",
   "metadata": {},
   "outputs": [],
   "source": [
    "class GaussianNaiveBayes:\n",
    "    def __init__(self):\n",
    "        self.classes = None\n",
    "        self.means = {}\n",
    "        self.variances = {}\n",
    "        self.priors = {}\n",
    "\n",
    "    def fit(self, X, y):\n",
    "        self.classes = np.unique(y)\n",
    "        for cls in self.classes:\n",
    "            X_c = X[y == cls]\n",
    "            self.means[cls] = np.mean(X_c, axis=0)\n",
    "            self.variances[cls] = np.var(X_c, axis=0)\n",
    "            self.priors[cls] = X_c.shape[0] / X.shape[0]\n",
    "\n",
    "    def _predict(self, x):\n",
    "        posteriors = []\n",
    "        for cls in self.classes:\n",
    "            prior = np.log(self.priors[cls])\n",
    "            mean = self.means[cls]\n",
    "            variance = self.variances[cls]\n",
    "            likelihood = -0.5 * np.sum(np.log(2 * np.pi * variance) + (x - mean) ** 2 / variance)\n",
    "            posterior = prior + likelihood\n",
    "            posteriors.append(posterior)\n",
    "\n",
    "        return self.classes[np.argmax(posteriors)]\n",
    "    \n",
    "    def predict(self, X):\n",
    "        return np.array([self._predict(x) for x in X])"
   ]
  },
  {
   "cell_type": "code",
   "execution_count": 13,
   "id": "3b0db3db",
   "metadata": {},
   "outputs": [
    {
     "name": "stdout",
     "output_type": "stream",
     "text": [
      "Naive Bayes Gaussiano\n",
      "\n",
      "[CONJUNTO DE VALIDAÇÃO]\n",
      "Fold 1 - Acurácia: 0.9500 | Classe 0: 1.0000 | Classe 1: 0.8667\n",
      "Fold 2 - Acurácia: 0.9000 | Classe 0: 1.0000 | Classe 1: 0.5000\n",
      "Fold 3 - Acurácia: 0.9500 | Classe 0: 0.9655 | Classe 1: 0.9091\n",
      "Fold 4 - Acurácia: 0.9250 | Classe 0: 0.9200 | Classe 1: 0.9333\n",
      "Fold 5 - Acurácia: 1.0000 | Classe 0: 1.0000 | Classe 1: 1.0000\n",
      "Fold 6 - Acurácia: 0.9250 | Classe 0: 0.9600 | Classe 1: 0.8667\n",
      "Fold 7 - Acurácia: 0.9750 | Classe 0: 0.9583 | Classe 1: 1.0000\n",
      "Fold 8 - Acurácia: 0.9500 | Classe 0: 0.9259 | Classe 1: 1.0000\n",
      "Fold 9 - Acurácia: 0.9487 | Classe 0: 0.9200 | Classe 1: 1.0000\n",
      "Fold 10 - Acurácia: 0.9487 | Classe 0: 1.0000 | Classe 1: 0.8947\n",
      "\n",
      "Acurácia Global: Média = 0.9472, Desvio Padrão = 0.0261\n",
      "Acurácia Classe 0: Média = 0.9650, Desvio Padrão = 0.0325\n",
      "Acurácia Classe 1: Média = 0.8970, Desvio Padrão = 0.1426\n"
     ]
    }
   ],
   "source": [
    "print(\"Naive Bayes Gaussiano\")\n",
    "print(f\"\\n[CONJUNTO DE VALIDAÇÃO]\")\t\n",
    "accuracies_nb, acc_class_0_nb, acc_class_1_nb = cross_validate_model(GaussianNaiveBayes, X_trainval, y_trainval, k=10)"
   ]
  },
  {
   "cell_type": "code",
   "execution_count": 14,
   "id": "4b7b3180",
   "metadata": {},
   "outputs": [
    {
     "name": "stdout",
     "output_type": "stream",
     "text": [
      "\n",
      "[CONJUNTO DE TESTE - Naive Bayes Gaussiano (Classificação Binária)]\n",
      "Acurácia Global: 0.9240\n",
      "Acurácia Classe 0: 0.9798\n",
      "Acurácia Classe 1: 0.8472\n"
     ]
    }
   ],
   "source": [
    "model_final = GaussianNaiveBayes()\n",
    "model_final.fit(X_trainval, y_trainval)\n",
    "\n",
    "y_test_pred = model_final.predict(X_test)\n",
    "\n",
    "test_acc = accuracy(y_test, y_test_pred)\n",
    "test_per_class = per_class_accuracy(y_test, y_test_pred)\n",
    "\n",
    "print(f\"\\n[CONJUNTO DE TESTE - Naive Bayes Gaussiano (Classificação Binária)]\")\n",
    "print(f\"Acurácia Global: {test_acc:.4f}\")\n",
    "print(f\"Acurácia Classe 0: {test_per_class.get(0, 0):.4f}\")\n",
    "print(f\"Acurácia Classe 1: {test_per_class.get(1, 0):.4f}\")"
   ]
  },
  {
   "cell_type": "markdown",
   "id": "2b6b3603",
   "metadata": {},
   "source": [
    "# Questão 2"
   ]
  },
  {
   "cell_type": "markdown",
   "id": "0d7a0740",
   "metadata": {},
   "source": [
    "Considere o conjunto de dados disponível em vehicle.csv, organizado em 19 colunas, sendo as 18 primeiras colunas os atributos e a última coluna a saída. Os 18 atributos caracterizam a silhueta de veículos, extraídos pelo método HIPS (Hierarchical Image Processing System). A tarefa consiste em classificar o veículo em 4 classes (bus, opel, saab, e van). Maiores detalhes sobre os dados podem ser conferidos em https://www.openml.org/search?type=data&sort=runs&id=54.\n",
    "\n",
    "a. Considerando uma validação cruzada em 10 folds, avalie modelos de classificação multiclasse nos dados em questão. Para tanto, use as abordagens abaixo:\n",
    "- Regressão softmax (treinado com GD ou SGD);\n",
    "- Análise do discriminante Gaussiano;\n",
    "- Naive Bayes Gaussiano;\n",
    "\n",
    "b. Para cada modelo criado, reporte valor médio e desvio padrão da acurácia global e da acurácia por classe."
   ]
  },
  {
   "cell_type": "markdown",
   "id": "8a10d37b",
   "metadata": {},
   "source": [
    "## Regressão Softmax - GD"
   ]
  },
  {
   "cell_type": "code",
   "execution_count": 15,
   "id": "b45a8333",
   "metadata": {},
   "outputs": [],
   "source": [
    "class SoftmaxRegressionGD:\n",
    "    def __init__(self, alpha=1e-1, num_epochs=1000):\n",
    "        self.alpha = alpha\n",
    "        self.num_epochs = num_epochs\n",
    "        self.w = None\n",
    "        self.mean = None\n",
    "        self.std = None\n",
    "        self.losses = []\n",
    "\n",
    "    def normalize(self, X):\n",
    "        self.mean = np.mean(X, axis=0)\n",
    "        self.std = np.std(X, axis=0)\n",
    "        return (X - self.mean) / self.std\n",
    "\n",
    "    def softmax(self, z):\n",
    "        exp_z = np.exp(z - np.max(z, axis=1, keepdims=True))\n",
    "        return exp_z / np.sum(exp_z, axis=1, keepdims=True)\n",
    "    \n",
    "    def cross_entropy(self, y, y_pred):\n",
    "        epsilon = 1e-15\n",
    "        y_pred = np.clip(y_pred, epsilon, 1 - epsilon)\n",
    "        loss = -np.mean(np.sum(y * np.log(y_pred), axis=1))\n",
    "        return loss\n",
    "    \n",
    "    def one_hot_encode(self, y, num_classes):\n",
    "        return np.eye(num_classes)[y]\n",
    "    \n",
    "    def fit(self, X, y):\n",
    "        X = self.normalize(X)\n",
    "        N, D = X.shape\n",
    "        y = y.astype(int)\n",
    "        num_classes = np.unique(y).size\n",
    "\n",
    "        X_b = np.c_[np.ones((N, 1)), X]\n",
    "        self.w = np.random.randn(D + 1, num_classes)\n",
    "        y_one_hot = self.one_hot_encode(y, num_classes)\n",
    "        \n",
    "        self.losses = []\n",
    "\n",
    "        for epoch in range(self.num_epochs):\n",
    "            logits = X_b @ self.w\n",
    "            probs = self.softmax(logits)\n",
    "            loss = self.cross_entropy(y_one_hot, probs)\n",
    "            self.losses.append(loss)\n",
    "\n",
    "            grad = (1 / N) * X_b.T @ (probs - y_one_hot)\n",
    "            self.w -= self.alpha * grad\n",
    "    \n",
    "    def predict(self, X):\n",
    "        X = (X - self.mean) / self.std\n",
    "        X_b = np.c_[np.ones((X.shape[0], 1)), X]\n",
    "        logits = X_b @ self.w\n",
    "        probs = self.softmax(logits)\n",
    "        return np.argmax(probs, axis=1)"
   ]
  },
  {
   "cell_type": "code",
   "execution_count": 16,
   "id": "4a26c1ce",
   "metadata": {},
   "outputs": [],
   "source": [
    "def cross_validate_model(ModelClass, X, y, k=10, **kwargs):\n",
    "    folds = k_fold_split(X, y, k)\n",
    "    accuracies = []\n",
    "    accs_por_classe = []\n",
    "\n",
    "    classes = np.unique(y)\n",
    "\n",
    "    for fold_idx, (train_idx, val_idx) in enumerate(folds):\n",
    "        X_train, y_train = X[train_idx], y[train_idx]\n",
    "        X_val, y_val = X[val_idx], y[val_idx]\n",
    "\n",
    "        model = ModelClass(**kwargs)\n",
    "        model.fit(X_train, y_train)\n",
    "        y_pred = model.predict(X_val)\n",
    "\n",
    "        acc = accuracy(y_val, y_pred)\n",
    "        accuracies.append(acc)\n",
    "\n",
    "        per_cls = per_class_accuracy(y_val, y_pred)\n",
    "        accs_por_classe.append(per_cls)\n",
    "\n",
    "        acc_str = \" | \".join([f\"Classe {cls}: {per_cls.get(cls, 0.0):.4f}\" for cls in classes])\n",
    "        print(f\"Fold {fold_idx + 1} - Acurácia global: {acc:.4f} | Acurácia por classe: {acc_str}\")\n",
    "\n",
    "    print(f\"\\nAcurácia Global: Média = {np.mean(accuracies):.4f}, Desvio Padrão = {np.std(accuracies):.4f}\")\n",
    "\n",
    "    print(\"\\nAcurácia por classe:\")\n",
    "    for cls in classes:\n",
    "        cls_accs = [fold_acc.get(cls, 0.0) for fold_acc in accs_por_classe]\n",
    "        mean_cls = np.mean(cls_accs)\n",
    "        std_cls = np.std(cls_accs)\n",
    "        print(f\"Classe {cls}: Média = {mean_cls:.4f}, Desvio Padrão = {std_cls:.4f}\")\n",
    "\n",
    "    return accuracies, accs_por_classe"
   ]
  },
  {
   "cell_type": "code",
   "execution_count": 17,
   "id": "7bf938b9",
   "metadata": {},
   "outputs": [],
   "source": [
    "data_raw = np.genfromtxt('./vehicle.csv', delimiter=',', dtype=str)\n",
    "\n",
    "X = data_raw[:, :-1].astype(float)\n",
    "y_raw = data_raw[:, -1]\n",
    "\n",
    "labels = np.unique(y_raw)\n",
    "label_map = {label: idx for idx, label in enumerate(labels)}\n",
    "y = np.array([label_map[label] for label in y_raw])"
   ]
  },
  {
   "cell_type": "code",
   "execution_count": 18,
   "id": "80c45daa",
   "metadata": {},
   "outputs": [],
   "source": [
    "X_trainval, y_trainval, X_test, y_test = split_train_test(X, y, train_size=0.7)"
   ]
  },
  {
   "cell_type": "code",
   "execution_count": 19,
   "id": "7b51a0c7",
   "metadata": {},
   "outputs": [
    {
     "name": "stdout",
     "output_type": "stream",
     "text": [
      "Regerssão Softmax - GD\n",
      "Fold 1 - Acurácia global: 0.7647 | Acurácia por classe: Classe 0: 0.9583 | Classe 1: 0.6154 | Classe 2: 0.5000 | Classe 3: 0.9545\n",
      "Fold 2 - Acurácia global: 0.7294 | Acurácia por classe: Classe 0: 0.8929 | Classe 1: 0.4706 | Classe 2: 0.5000 | Classe 3: 1.0000\n",
      "Fold 3 - Acurácia global: 0.7529 | Acurácia por classe: Classe 0: 0.9231 | Classe 1: 0.6471 | Classe 2: 0.5000 | Classe 3: 0.9444\n",
      "Fold 4 - Acurácia global: 0.7765 | Acurácia por classe: Classe 0: 0.9412 | Classe 1: 0.6957 | Classe 2: 0.6538 | Classe 3: 0.8947\n",
      "Fold 5 - Acurácia global: 0.7529 | Acurácia por classe: Classe 0: 0.7391 | Classe 1: 0.5833 | Classe 2: 0.7500 | Classe 3: 1.0000\n",
      "Fold 6 - Acurácia global: 0.8235 | Acurácia por classe: Classe 0: 0.8400 | Classe 1: 0.7500 | Classe 2: 0.6000 | Classe 3: 0.9655\n",
      "Fold 7 - Acurácia global: 0.7976 | Acurácia por classe: Classe 0: 0.8947 | Classe 1: 0.5294 | Classe 2: 0.6957 | Classe 3: 1.0000\n",
      "Fold 8 - Acurácia global: 0.7500 | Acurácia por classe: Classe 0: 0.9000 | Classe 1: 0.5600 | Classe 2: 0.7692 | Classe 3: 0.8462\n",
      "Fold 9 - Acurácia global: 0.6786 | Acurácia por classe: Classe 0: 0.9000 | Classe 1: 0.5333 | Classe 2: 0.4737 | Classe 3: 0.9333\n",
      "Fold 10 - Acurácia global: 0.7381 | Acurácia por classe: Classe 0: 0.9375 | Classe 1: 0.4667 | Classe 2: 0.7500 | Classe 3: 0.9545\n",
      "\n",
      "Acurácia Global: Média = 0.7564, Desvio Padrão = 0.0372\n",
      "\n",
      "Acurácia por classe:\n",
      "Classe 0: Média = 0.8927, Desvio Padrão = 0.0600\n",
      "Classe 1: Média = 0.5851, Desvio Padrão = 0.0882\n",
      "Classe 2: Média = 0.6192, Desvio Padrão = 0.1131\n",
      "Classe 3: Média = 0.9493, Desvio Padrão = 0.0468\n"
     ]
    }
   ],
   "source": [
    "print(\"Regerssão Softmax - GD\")\n",
    "\n",
    "accuracies, accs_por_classe = cross_validate_model(\n",
    "    SoftmaxRegressionGD, \n",
    "    X, y, \n",
    "    k=10, \n",
    "    alpha=1e-1, \n",
    "    num_epochs=1000\n",
    ")\n"
   ]
  },
  {
   "cell_type": "code",
   "execution_count": 20,
   "id": "1503f861",
   "metadata": {},
   "outputs": [
    {
     "data": {
      "image/png": "[encoded data removed]",
      "text/plain": [
       "<Figure size 640x480 with 1 Axes>"
      ]
     },
     "metadata": {},
     "output_type": "display_data"
    }
   ],
   "source": [
    "model_final = SoftmaxRegressionGD(alpha=1e-1, num_epochs=1000)\n",
    "model_final.fit(X, y)\n",
    "\n",
    "plt.plot(model_final.losses)\n",
    "plt.xlabel(\"Época\")\n",
    "plt.ylabel(\"Loss (Cross-Entropy)\")\n",
    "plt.title(\"Curva de Loss - Regressão Softmax (GD)\")\n",
    "plt.grid(True)\n",
    "plt.tight_layout()\n",
    "plt.show()\n"
   ]
  },
  {
   "cell_type": "code",
   "execution_count": 21,
   "id": "a3971ae6",
   "metadata": {},
   "outputs": [
    {
     "name": "stdout",
     "output_type": "stream",
     "text": [
      "\n",
      "[CONJUNTO DE TESTE] Regressão Softmax - GD (Multiclasse)\n",
      "Acurácia Global: 0.7165\n",
      "Acurácia Classe 0: 0.9286\n",
      "Acurácia Classe 1: 0.5412\n",
      "Acurácia Classe 2: 0.6032\n",
      "Acurácia Classe 3: 0.9200\n"
     ]
    }
   ],
   "source": [
    "y_test_pred = model_final.predict(X_test)\n",
    "test_acc = accuracy(y_test, y_test_pred)\n",
    "test_accs = per_class_accuracy(y_test, y_test_pred)\n",
    "\n",
    "print(f\"\\n[CONJUNTO DE TESTE] Regressão Softmax - GD (Multiclasse)\")\n",
    "print(f\"Acurácia Global: {test_acc:.4f}\")\n",
    "for cls, acc in test_accs.items():\n",
    "    print(f\"Acurácia Classe {cls}: {acc:.4f}\")"
   ]
  },
  {
   "cell_type": "markdown",
   "id": "b94de050",
   "metadata": {},
   "source": [
    "## Análise do discriminante Gaussiano - GDA"
   ]
  },
  {
   "cell_type": "code",
   "execution_count": 22,
   "id": "99119ee2",
   "metadata": {},
   "outputs": [
    {
     "name": "stdout",
     "output_type": "stream",
     "text": [
      "Análise Discriminante Gaussiana\n",
      "\n",
      "[CONJUNTO DE VALIDAÇÃO]\n",
      "Fold 1 - Acurácia global: 0.7765 | Acurácia por classe: Classe 0: 0.9583 | Classe 1: 0.5385 | Classe 2: 0.5385 | Classe 3: 1.0000\n",
      "Fold 2 - Acurácia global: 0.7765 | Acurácia por classe: Classe 0: 0.9643 | Classe 1: 0.5882 | Classe 2: 0.5000 | Classe 3: 1.0000\n",
      "Fold 3 - Acurácia global: 0.8353 | Acurácia por classe: Classe 0: 1.0000 | Classe 1: 0.8235 | Classe 2: 0.5417 | Classe 3: 1.0000\n",
      "Fold 4 - Acurácia global: 0.8000 | Acurácia por classe: Classe 0: 0.9412 | Classe 1: 0.6522 | Classe 2: 0.7692 | Classe 3: 0.8947\n",
      "Fold 5 - Acurácia global: 0.7765 | Acurácia por classe: Classe 0: 0.9565 | Classe 1: 0.6250 | Classe 2: 0.6000 | Classe 3: 0.9444\n",
      "Fold 6 - Acurácia global: 0.8471 | Acurácia por classe: Classe 0: 0.9600 | Classe 1: 0.6250 | Classe 2: 0.6000 | Classe 3: 1.0000\n",
      "Fold 7 - Acurácia global: 0.7738 | Acurácia por classe: Classe 0: 0.9474 | Classe 1: 0.5294 | Classe 2: 0.6522 | Classe 3: 0.9200\n",
      "Fold 8 - Acurácia global: 0.7857 | Acurácia por classe: Classe 0: 0.9500 | Classe 1: 0.7200 | Classe 2: 0.6538 | Classe 3: 0.9231\n",
      "Fold 9 - Acurácia global: 0.7143 | Acurácia por classe: Classe 0: 0.9500 | Classe 1: 0.5667 | Classe 2: 0.4737 | Classe 3: 1.0000\n",
      "Fold 10 - Acurácia global: 0.7262 | Acurácia por classe: Classe 0: 0.9375 | Classe 1: 0.4667 | Classe 2: 0.6875 | Classe 3: 0.9545\n",
      "\n",
      "Acurácia Global: Média = 0.7812, Desvio Padrão = 0.0391\n",
      "\n",
      "Acurácia por classe:\n",
      "Classe 0: Média = 0.9565, Desvio Padrão = 0.0165\n",
      "Classe 1: Média = 0.6135, Desvio Padrão = 0.0971\n",
      "Classe 2: Média = 0.6017, Desvio Padrão = 0.0866\n",
      "Classe 3: Média = 0.9637, Desvio Padrão = 0.0392\n"
     ]
    }
   ],
   "source": [
    "print(\"Análise Discriminante Gaussiana\")\n",
    "print(f\"\\n[CONJUNTO DE VALIDAÇÃO]\")\t\n",
    "\n",
    "accuracies, accs_por_classe = cross_validate_model(\n",
    "    GaussianDiscriminantAnalysis, \n",
    "    X, y, \n",
    "    k=10\n",
    ")"
   ]
  },
  {
   "cell_type": "code",
   "execution_count": 23,
   "id": "64fd5c21",
   "metadata": {},
   "outputs": [
    {
     "name": "stdout",
     "output_type": "stream",
     "text": [
      "\n",
      "[CONJUNTO DE TESTE] GDA - Multiclasse\n",
      "Acurácia no teste: 0.7244\n",
      "Acurácia por classe no teste:\n",
      "Classe 0: 0.9464\n",
      "Classe 1: 0.5176\n",
      "Classe 2: 0.6190\n",
      "Classe 3: 0.9600\n"
     ]
    }
   ],
   "source": [
    "model_final = GaussianDiscriminantAnalysis()\n",
    "model_final.fit(X_trainval, y_trainval)\n",
    "\n",
    "y_test_pred = model_final.predict(X_test)\n",
    "\n",
    "acc_test = accuracy(y_test, y_test_pred)\n",
    "accs_test = per_class_accuracy(y_test, y_test_pred)\n",
    "\n",
    "print(f\"\\n[CONJUNTO DE TESTE] GDA - Multiclasse\")\n",
    "print(f\"Acurácia no teste: {acc_test:.4f}\")\n",
    "print(\"Acurácia por classe no teste:\")\n",
    "for cls, acc in accs_test.items():\n",
    "    print(f\"Classe {cls}: {acc:.4f}\")\n"
   ]
  },
  {
   "cell_type": "markdown",
   "id": "fa16123c",
   "metadata": {},
   "source": [
    "## Naive Bayes Gaussiano;"
   ]
  },
  {
   "cell_type": "code",
   "execution_count": 24,
   "id": "cd3148ab",
   "metadata": {},
   "outputs": [
    {
     "name": "stdout",
     "output_type": "stream",
     "text": [
      "Naive Bayes Gaussiano\n",
      "\n",
      "[CONJUNTO DE VALIDAÇÃO]\n",
      "Fold 1 - Acurácia global: 0.4833 | Acurácia por classe: Classe 0: 0.2857 | Classe 1: 0.1667 | Classe 2: 0.6000 | Classe 3: 0.7857\n",
      "Fold 2 - Acurácia global: 0.5000 | Acurácia por classe: Classe 0: 0.1875 | Classe 1: 0.0909 | Classe 2: 0.6667 | Classe 3: 1.0000\n",
      "Fold 3 - Acurácia global: 0.5254 | Acurácia por classe: Classe 0: 0.3529 | Classe 1: 0.3333 | Classe 2: 0.5333 | Classe 3: 0.8667\n",
      "Fold 4 - Acurácia global: 0.4576 | Acurácia por classe: Classe 0: 0.2778 | Classe 1: 0.2308 | Classe 2: 0.6154 | Classe 3: 0.7333\n",
      "Fold 5 - Acurácia global: 0.5593 | Acurácia por classe: Classe 0: 0.3846 | Classe 1: 0.2500 | Classe 2: 0.6875 | Classe 3: 0.9286\n",
      "Fold 6 - Acurácia global: 0.4068 | Acurácia por classe: Classe 0: 0.3125 | Classe 1: 0.1250 | Classe 2: 0.4167 | Classe 3: 0.8000\n",
      "Fold 7 - Acurácia global: 0.5424 | Acurácia por classe: Classe 0: 0.3333 | Classe 1: 0.3750 | Classe 2: 0.5385 | Classe 3: 0.9333\n",
      "Fold 8 - Acurácia global: 0.5763 | Acurácia por classe: Classe 0: 0.2353 | Classe 1: 0.4286 | Classe 2: 0.6000 | Classe 3: 0.9000\n",
      "Fold 9 - Acurácia global: 0.4068 | Acurácia por classe: Classe 0: 0.0714 | Classe 1: 0.1176 | Classe 2: 0.6154 | Classe 3: 0.8667\n",
      "Fold 10 - Acurácia global: 0.4915 | Acurácia por classe: Classe 0: 0.1818 | Classe 1: 0.2857 | Classe 2: 0.5625 | Classe 3: 1.0000\n",
      "\n",
      "Acurácia Global: Média = 0.4949, Desvio Padrão = 0.0557\n",
      "\n",
      "Acurácia por classe:\n",
      "Classe 0: Média = 0.2623, Desvio Padrão = 0.0899\n",
      "Classe 1: Média = 0.2404, Desvio Padrão = 0.1098\n",
      "Classe 2: Média = 0.5836, Desvio Padrão = 0.0729\n",
      "Classe 3: Média = 0.8814, Desvio Padrão = 0.0846\n"
     ]
    }
   ],
   "source": [
    "print(\"Naive Bayes Gaussiano\")\n",
    "print(f\"\\n[CONJUNTO DE VALIDAÇÃO]\")\t\n",
    "\n",
    "accuracies, accs_por_classe = cross_validate_model(GaussianNaiveBayes, X_trainval, y_trainval, k=10)"
   ]
  },
  {
   "cell_type": "code",
   "execution_count": 25,
   "id": "6ebfbb11",
   "metadata": {},
   "outputs": [
    {
     "name": "stdout",
     "output_type": "stream",
     "text": [
      "\n",
      "[CONJUNTO DE TESTE] Naive Bayes Gaussiano - Multiclasse\n",
      "Acurácia no teste: 0.4331\n",
      "Acurácia por classe no teste:\n",
      "Classe 0: 0.1607\n",
      "Classe 1: 0.2471\n",
      "Classe 2: 0.5873\n",
      "Classe 3: 0.8600\n"
     ]
    }
   ],
   "source": [
    "model_final = GaussianNaiveBayes()\n",
    "model_final.fit(X_trainval, y_trainval)\n",
    "\n",
    "y_test_pred = model_final.predict(X_test)\n",
    "\n",
    "acc_test = accuracy(y_test, y_test_pred)\n",
    "accs_test = per_class_accuracy(y_test, y_test_pred)\n",
    "\n",
    "print(f\"\\n[CONJUNTO DE TESTE] Naive Bayes Gaussiano - Multiclasse\")\n",
    "print(f\"Acurácia no teste: {acc_test:.4f}\")\n",
    "print(\"Acurácia por classe no teste:\")\n",
    "for cls, acc in accs_test.items():\n",
    "    print(f\"Classe {cls}: {acc:.4f}\")\n"
   ]
  },
  {
   "cell_type": "code",
   "execution_count": null,
   "id": "aad1e1ac",
   "metadata": {},
   "outputs": [],
   "source": []
  }
 ],
 "metadata": {
  "kernelspec": {
   "display_name": "ama",
   "language": "python",
   "name": "python3"
  },
  "language_info": {
   "codemirror_mode": {
    "name": "ipython",
    "version": 3
   },
   "file_extension": ".py",
   "mimetype": "text/x-python",
   "name": "python",
   "nbconvert_exporter": "python",
   "pygments_lexer": "ipython3",
   "version": "3.12.10"
  }
 },
 "nbformat": 4,
 "nbformat_minor": 5
}
