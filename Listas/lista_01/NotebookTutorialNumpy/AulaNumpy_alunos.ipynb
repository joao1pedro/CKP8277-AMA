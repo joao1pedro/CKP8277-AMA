{
 "cells": [
  {
   "cell_type": "markdown",
   "metadata": {
    "colab_type": "text",
    "id": "i8moYMLk3mSL"
   },
   "source": [
    "# Introdução ao `numpy`"
   ]
  },
  {
   "cell_type": "code",
   "execution_count": 58,
   "metadata": {
    "colab": {},
    "colab_type": "code",
    "id": "KZTZcDGW20Y6"
   },
   "outputs": [],
   "source": [
    "import numpy as np\n",
    "import matplotlib.pyplot as plt  # Biblioteca para gerar gráficos"
   ]
  },
  {
   "cell_type": "markdown",
   "metadata": {
    "colab_type": "text",
    "id": "jbLN6SejnwoL"
   },
   "source": [
    "Vamos criar umas matrizes e vetores para começar...\n",
    "\n",
    "$$\\begin{aligned}\n",
    "\\boldsymbol{A} &= \\begin{bmatrix}2 & 0\\\\ 4 & 6\\\\ 8 & 2\\end{bmatrix}\\ &\n",
    "\\boldsymbol{B} &= \\begin{bmatrix}1 & 3\\\\ 5 & 7\\end{bmatrix}\\\\\\\\\n",
    "\\boldsymbol{v}_1 &= \\begin{bmatrix}5 & 3\\end{bmatrix}\\ &\n",
    "\\boldsymbol{v}_2 &= \\begin{bmatrix}9 & 2 & 1\\end{bmatrix}\n",
    "\\end{aligned}$$"
   ]
  },
  {
   "cell_type": "code",
   "execution_count": 59,
   "metadata": {
    "colab": {},
    "colab_type": "code",
    "id": "JDS1cgwngp-B"
   },
   "outputs": [],
   "source": [
    "A = np.array([[2,0],[4,6],[8,2]])\n",
    "B = np.array([[1,3],[5,7]])\n",
    "v1 = np.array([5,3])\n",
    "v2 = np.array([9,2,1])"
   ]
  },
  {
   "cell_type": "code",
   "execution_count": 60,
   "metadata": {
    "colab": {
     "base_uri": "https://localhost:8080/",
     "height": 85
    },
    "colab_type": "code",
    "id": "lCM_Bmf4hzlv",
    "outputId": "fb60843c-679e-44dd-d241-a76c56159772"
   },
   "outputs": [
    {
     "name": "stdout",
     "output_type": "stream",
     "text": [
      "Dimensão de A: (3, 2)\n",
      "Dimensão de B: (2, 2)\n",
      "Dimensão de v1: (2,)\n",
      "Dimensão de v2: (2,)\n"
     ]
    }
   ],
   "source": [
    "print(\"Dimensão de A:\", A.shape)\n",
    "print(\"Dimensão de B:\", B.shape)\n",
    "print(\"Dimensão de v1:\", v1.shape)\n",
    "print(\"Dimensão de v2:\", v1.shape)"
   ]
  },
  {
   "cell_type": "markdown",
   "metadata": {},
   "source": [
    "$$\\begin{aligned}\n",
    "\\boldsymbol{A} &= \\begin{bmatrix}2 & 0\\\\ 4 & 6\\\\ 8 & 2\\end{bmatrix}\\\\\n",
    "\\boldsymbol{A}^{\\top} &= \\begin{bmatrix}2 & 4 & 8\\\\ 0 & 6 & 2\\end{bmatrix}\n",
    "\\end{aligned}$$"
   ]
  },
  {
   "cell_type": "code",
   "execution_count": 61,
   "metadata": {},
   "outputs": [
    {
     "name": "stdout",
     "output_type": "stream",
     "text": [
      "Matriz original:\n",
      "[[2 0]\n",
      " [4 6]\n",
      " [8 2]]\n",
      "Matriz transposta:\n",
      "[[2 4 8]\n",
      " [0 6 2]]\n"
     ]
    }
   ],
   "source": [
    "print(\"Matriz original:\")\n",
    "print(A)\n",
    "print(\"Matriz transposta:\")\n",
    "print(A.T)"
   ]
  },
  {
   "cell_type": "markdown",
   "metadata": {
    "colab_type": "text",
    "id": "oe-tmI5o_kcT"
   },
   "source": [
    "$$\\begin{aligned}\n",
    "\\boldsymbol{A}[0] &= \\begin{bmatrix}2 & 0\\end{bmatrix}\\\\\n",
    "\\boldsymbol{A}[[0,2]] &= \\begin{bmatrix}2 & 0\\\\ 8 & 2\\end{bmatrix}\\\\\n",
    "\\end{aligned}$$"
   ]
  },
  {
   "cell_type": "code",
   "execution_count": 62,
   "metadata": {
    "colab": {
     "base_uri": "https://localhost:8080/",
     "height": 85
    },
    "colab_type": "code",
    "id": "r-crrwNWw5Bo",
    "outputId": "8ddcd751-5ae5-4873-d234-4a7f137a4524"
   },
   "outputs": [
    {
     "name": "stdout",
     "output_type": "stream",
     "text": [
      "Primeira linha de A:\n",
      "[2 0] dimensão: (2,)\n",
      "Primeira e terceira linha de A:\n",
      "[[2 0]\n",
      " [8 2]] dimensão: (2, 2)\n",
      "Primeira linha de A (mantendo 2 dimensões):\n",
      "[[2 0]] dimensão: (1, 2)\n"
     ]
    }
   ],
   "source": [
    "print(\"Primeira linha de A:\")\n",
    "print(A[0], \"dimensão:\", A[0].shape) # Primeira linha de A\n",
    "print(\"Primeira e terceira linha de A:\")\n",
    "print(A[[0,2]], \"dimensão:\", A[[0,2]].shape) # Primeira e terceira linha de A\n",
    "print(\"Primeira linha de A (mantendo 2 dimensões):\")\n",
    "print(A[[0]], \"dimensão:\", A[[0]].shape) # Primeira linha de A (mantendo 2 dimensões)"
   ]
  },
  {
   "cell_type": "markdown",
   "metadata": {
    "colab_type": "text",
    "id": "aPuiGsipo1DA"
   },
   "source": [
    "$$\\begin{aligned}\n",
    "\\boldsymbol{A}[:,0] &= \\begin{bmatrix}2 & 4 & 8\\end{bmatrix}\\\\\n",
    "\\boldsymbol{A}[:,[0]] &= \\begin{bmatrix}2 \\\\ 4 \\\\ 8\\end{bmatrix}\n",
    "\\end{aligned}$$"
   ]
  },
  {
   "cell_type": "code",
   "execution_count": 63,
   "metadata": {
    "colab": {
     "base_uri": "https://localhost:8080/",
     "height": 136
    },
    "colab_type": "code",
    "id": "KKjo_gvZmYgm",
    "outputId": "65738d05-9b76-44d6-d9a5-9a24c9107a5a"
   },
   "outputs": [
    {
     "name": "stdout",
     "output_type": "stream",
     "text": [
      "Primeira coluna do A:\n",
      "[2 4 8] dimensão: (3,)\n",
      "Primeira e segunda coluna do A:\n",
      "[[2 0]\n",
      " [4 6]\n",
      " [8 2]] dimensão: (3, 2)\n",
      "Primeira coluna do A (mantendo 2 dimensões):\n",
      "[[2]\n",
      " [4]\n",
      " [8]] dimensão: (3, 1)\n"
     ]
    }
   ],
   "source": [
    "print(\"Primeira coluna do A:\")\n",
    "print(A[:,0], \"dimensão:\", A[:,0].shape) # Primeira coluna do A\n",
    "print(\"Primeira e segunda coluna do A:\")\n",
    "print(A[:,[0,1]], \"dimensão:\", A[:,[0,1]].shape) # Primeira e segunda coluna do A\n",
    "print(\"Primeira coluna do A (mantendo 2 dimensões):\")\n",
    "print(A[:,[0]], \"dimensão:\", A[:,[0]].shape) # Primeira coluna do A (mantendo 2 dimensões)"
   ]
  },
  {
   "cell_type": "markdown",
   "metadata": {},
   "source": [
    "$$\\begin{aligned}\n",
    "\\left[\\begin{bmatrix}2 & 4 & 8\\end{bmatrix}; \\begin{bmatrix}1 & 2 & 3\\end{bmatrix}\\right] &= \\begin{bmatrix}2 & 4 & 8\\\\1 & 2 & 3\\end{bmatrix}\\\\\n",
    "\\left[\\begin{bmatrix}2 \\\\ 4 \\\\ 8\\end{bmatrix}, \\begin{bmatrix}1 \\\\ 2 \\\\ 3\\end{bmatrix}\\right] &= \\begin{bmatrix}2 & 1 \\\\ 4 & 2 \\\\ 8 & 3\\end{bmatrix}\n",
    "\\end{aligned}$$"
   ]
  },
  {
   "cell_type": "code",
   "execution_count": 64,
   "metadata": {},
   "outputs": [
    {
     "name": "stdout",
     "output_type": "stream",
     "text": [
      "[[2 4 8]] dimensão: (1, 3)\n",
      "[[1 2 3]] dimensão: (1, 3)\n",
      "[[2 4 8]\n",
      " [1 2 3]] dimensão: (2, 3)\n"
     ]
    }
   ],
   "source": [
    "a = np.array([2, 4, 8]).reshape((1,-1))\n",
    "b = np.array([1, 2, 3]).reshape((1,-1))\n",
    "ab = np.r_[a,b]\n",
    "\n",
    "print(a, \"dimensão:\", a.shape)\n",
    "print(b, \"dimensão:\", b.shape)\n",
    "print(ab, \"dimensão:\", ab.shape) # row stack"
   ]
  },
  {
   "cell_type": "code",
   "execution_count": 65,
   "metadata": {},
   "outputs": [
    {
     "name": "stdout",
     "output_type": "stream",
     "text": [
      "[[2]\n",
      " [4]\n",
      " [8]] dimensão: (3, 1)\n",
      "[[1]\n",
      " [2]\n",
      " [3]] dimensão: (3, 1)\n",
      "[[2 1]\n",
      " [4 2]\n",
      " [8 3]] dimensão: (3, 2)\n"
     ]
    }
   ],
   "source": [
    "c = np.array([2, 4, 8]).reshape((-1,1))\n",
    "d = np.array([1, 2, 3]).reshape((-1,1))\n",
    "cd = np.c_[c,d]\n",
    "\n",
    "print(c, \"dimensão:\", c.shape)\n",
    "print(d, \"dimensão:\", d.shape)\n",
    "print(cd, \"dimensão:\", cd.shape) # column stack"
   ]
  },
  {
   "cell_type": "markdown",
   "metadata": {
    "colab_type": "text",
    "id": "fVB8eWYuA56y"
   },
   "source": [
    "## Matrizes notáveis\n",
    "\n",
    "$$\\begin{aligned}\n",
    "\\boldsymbol{I}_n = \\mathtt{np.eye(n)} &= \\begin{bmatrix}1 & 0 & \\ldots\\\\ 0 & 1 & \\ldots\\\\ \\vdots&\\vdots&\\vdots\\\\ 0 & \\ldots & 1\\end{bmatrix}&\n",
    "\\boldsymbol{0}_{n,m} = \\mathtt{np.zeros((n,m))} &= \\begin{bmatrix}0 & 0 & \\ldots\\\\ 0 & 0 & \\ldots\\\\ \\vdots&\\vdots&\\vdots\\\\ 0 & \\ldots & 0\\end{bmatrix}\\\\\n",
    "\\boldsymbol{1}_{n,m} = \\mathtt{np.ones((n,m))} &= \\begin{bmatrix}1 & 1 & \\ldots\\\\ 1 & 1 & \\ldots\\\\ \\vdots&\\vdots&\\vdots\\\\ 1 & \\ldots & 1\\end{bmatrix}\\\\\n",
    "\\end{aligned}$$"
   ]
  },
  {
   "cell_type": "code",
   "execution_count": 66,
   "metadata": {
    "colab": {
     "base_uri": "https://localhost:8080/",
     "height": 238
    },
    "colab_type": "code",
    "id": "2KZ335xCB20E",
    "outputId": "3c80c609-5d15-4d91-a5cd-63351337e12c"
   },
   "outputs": [
    {
     "name": "stdout",
     "output_type": "stream",
     "text": [
      "Matriz identidade de ordem 5:\n",
      "[[1. 0. 0. 0. 0.]\n",
      " [0. 1. 0. 0. 0.]\n",
      " [0. 0. 1. 0. 0.]\n",
      " [0. 0. 0. 1. 0.]\n",
      " [0. 0. 0. 0. 1.]]\n",
      "Matriz de zeros 5x3:\n",
      "[[0. 0. 0.]\n",
      " [0. 0. 0.]\n",
      " [0. 0. 0.]\n",
      " [0. 0. 0.]\n",
      " [0. 0. 0.]]\n",
      "Matriz de uns 3x1:\n",
      "[[1.]\n",
      " [1.]\n",
      " [1.]]\n"
     ]
    }
   ],
   "source": [
    "print(\"Matriz identidade de ordem 5:\")\n",
    "print(np.eye(5))\n",
    "print(\"Matriz de zeros 5x3:\")\n",
    "print(np.zeros((5,3)))\n",
    "print(\"Matriz de uns 3x1:\")\n",
    "print(np.ones((3,1)))"
   ]
  },
  {
   "cell_type": "markdown",
   "metadata": {},
   "source": [
    "Além dessas matrizes notáveis, também podemos fazer matrizes aleatórias:\n",
    "\n",
    "`np.random.rand(n,m)` é uma matrix $n$ por $m$ onde $[\\mathtt{np.random.rand(n,m)}]_{ij} \\sim \\mathcal{U}(0,1)$.\n",
    "\n",
    "Ou seja, $[\\mathtt{np.random.rand(n,m)}]_{ij} \\in [0,1)$\n",
    "\n",
    "`np.random.randn(n,m)` é uma matrix $n$ por $m$ onde $[\\mathtt{np.random.randn(n,m)}]_{ij} \\sim \\mathcal{N}(0,1)$\n",
    "\n",
    "Ou seja, $[\\mathtt{np.random.randn(n,m)}]_{ij} \\in (-\\infty,+\\infty)$"
   ]
  },
  {
   "cell_type": "code",
   "execution_count": 67,
   "metadata": {},
   "outputs": [
    {
     "name": "stdout",
     "output_type": "stream",
     "text": [
      "Matriz 5x3 de números aleatórios amostrados de U(0,1):\n",
      "[[0.42224199 0.01109918 0.59801685]\n",
      " [0.11786995 0.14964982 0.63271641]\n",
      " [0.11319367 0.71513028 0.61029457]\n",
      " [0.57120342 0.21139662 0.02767094]\n",
      " [0.51554132 0.72253466 0.60065456]]\n",
      "Matriz 2x2 de números aleatórios amostrados de N(0,1):\n",
      "[[ 0.58608286 -0.13924064]\n",
      " [-2.04416867  0.31730102]]\n"
     ]
    }
   ],
   "source": [
    "print(\"Matriz 5x3 de números aleatórios amostrados de U(0,1):\")\n",
    "print(np.random.rand(5,3))\n",
    "print(\"Matriz 2x2 de números aleatórios amostrados de N(0,1):\")\n",
    "print(np.random.randn(2,2))"
   ]
  },
  {
   "cell_type": "markdown",
   "metadata": {
    "colab_type": "text",
    "id": "HpiBGmIjmmXO"
   },
   "source": [
    "## Operações lineares"
   ]
  },
  {
   "cell_type": "markdown",
   "metadata": {
    "colab_type": "text",
    "id": "hF53unHnsP2W"
   },
   "source": [
    "Produto de escalares por matrizes:\n",
    "$$\\begin{aligned}\n",
    "5\\boldsymbol{A} &= \\begin{bmatrix}2\\cdot 5 & 0\\cdot 5\\\\ 4\\cdot 5 & 6\\cdot 5\\\\ 8\\cdot 5 & 2\\cdot 5\\end{bmatrix}\\\\[0.3em]\n",
    "&= \\begin{bmatrix}10 & 0\\\\ 20 & 30\\\\ 40 & 10\\end{bmatrix}\n",
    "\\end{aligned}$$"
   ]
  },
  {
   "cell_type": "code",
   "execution_count": 68,
   "metadata": {
    "colab": {
     "base_uri": "https://localhost:8080/",
     "height": 68
    },
    "colab_type": "code",
    "id": "K1mE0VBilKIY",
    "outputId": "4f604a8d-e54f-4489-d3b0-547e061e81b5"
   },
   "outputs": [
    {
     "name": "stdout",
     "output_type": "stream",
     "text": [
      "[[10  0]\n",
      " [20 30]\n",
      " [40 10]]\n"
     ]
    }
   ],
   "source": [
    "print(5 * A)"
   ]
  },
  {
   "cell_type": "markdown",
   "metadata": {
    "colab_type": "text",
    "id": "MdEFzm9Bmvmc"
   },
   "source": [
    "Soma de matrizes:\n",
    "$$\\begin{aligned}\n",
    "\\boldsymbol{A}+\\boldsymbol{A} &= \\begin{bmatrix}2 & 0\\\\ 4 & 6\\\\ 8 & 2\\end{bmatrix}+\\begin{bmatrix}2 & 0\\\\ 4 & 6\\\\ 8 & 2\\end{bmatrix}\\\\[0.3em]\n",
    "&= \\begin{bmatrix}4 & 0\\\\ 8 & 12\\\\ 26 & 4\\end{bmatrix}\n",
    "\\end{aligned}$$"
   ]
  },
  {
   "cell_type": "code",
   "execution_count": 69,
   "metadata": {
    "colab": {
     "base_uri": "https://localhost:8080/",
     "height": 68
    },
    "colab_type": "code",
    "id": "mgxWPeBfmtgF",
    "outputId": "c2e0d519-2d76-48ef-ebc4-28f2a91ce840"
   },
   "outputs": [
    {
     "name": "stdout",
     "output_type": "stream",
     "text": [
      "[[ 4  0]\n",
      " [ 8 12]\n",
      " [16  4]]\n"
     ]
    }
   ],
   "source": [
    "print(A + A)"
   ]
  },
  {
   "cell_type": "markdown",
   "metadata": {
    "colab_type": "text",
    "id": "Z6MOwqaNnH1S",
    "tags": []
   },
   "source": [
    "Produto com broadcast (difusão) de um vetor por uma matriz:\n",
    "$$\\begin{aligned}\n",
    "\\boldsymbol{v}_1 \\bullet \\boldsymbol{A} &= \\begin{bmatrix}5 & 3\\end{bmatrix}\\bullet\\begin{bmatrix}2 & 0\\\\ 4 & 6\\\\ 8 & 2\\end{bmatrix}\\\\[0.3em]\n",
    "&= \\begin{bmatrix}5\\cdot 2 & 3\\cdot 0\\\\ 5\\cdot 4 & 3\\cdot 6\\\\ 5\\cdot 8 & 3\\cdot 2\\end{bmatrix}\\\\\n",
    "&= \\begin{bmatrix}10 & 0\\\\ 20 & 18\\\\ 40 & 6\\end{bmatrix}\\\\\n",
    "\\end{aligned}$$"
   ]
  },
  {
   "cell_type": "code",
   "execution_count": 70,
   "metadata": {
    "colab": {
     "base_uri": "https://localhost:8080/",
     "height": 68
    },
    "colab_type": "code",
    "id": "jAkvCHYfnCPF",
    "outputId": "d5d6de3d-830b-4de3-e284-92537285c007"
   },
   "outputs": [
    {
     "name": "stdout",
     "output_type": "stream",
     "text": [
      "[[10  0]\n",
      " [20 18]\n",
      " [40  6]]\n"
     ]
    }
   ],
   "source": [
    "print(v1 * A)"
   ]
  },
  {
   "cell_type": "markdown",
   "metadata": {
    "colab_type": "text",
    "id": "qKXp3XlQk4Vc"
   },
   "source": [
    "Soma com broadcast (difusão) de um vetor por uma matriz:\n",
    "$$\\begin{aligned}\n",
    "\\boldsymbol{v}_1 \\oplus \\boldsymbol{A} &= \\begin{bmatrix}5 & 3\\end{bmatrix}\\oplus\\begin{bmatrix}2 & 0\\\\ 4 & 6\\\\ 8 & 2\\end{bmatrix}\\\\[0.3em]\n",
    "&= \\begin{bmatrix}5 & 3\\\\ 5 & 3\\\\ 5 & 3\\end{bmatrix}+\\begin{bmatrix}2 & 0\\\\ 4 & 6\\\\ 8 & 2\\end{bmatrix}\\\\\n",
    "&= \\begin{bmatrix}7 & 3\\\\ 9 & 9\\\\ 13 & 5\\end{bmatrix}\\\\\n",
    "\\end{aligned}$$"
   ]
  },
  {
   "cell_type": "code",
   "execution_count": 71,
   "metadata": {
    "colab": {
     "base_uri": "https://localhost:8080/",
     "height": 68
    },
    "colab_type": "code",
    "id": "Kfr0uegMkws5",
    "outputId": "559093f4-2be7-4642-fa62-9ad60055eb91"
   },
   "outputs": [
    {
     "name": "stdout",
     "output_type": "stream",
     "text": [
      "[[ 7  3]\n",
      " [ 9  9]\n",
      " [13  5]]\n"
     ]
    }
   ],
   "source": [
    "print(v1 + A)"
   ]
  },
  {
   "cell_type": "markdown",
   "metadata": {},
   "source": [
    "Cuidado com as dimensões das variáveis:"
   ]
  },
  {
   "cell_type": "code",
   "execution_count": 72,
   "metadata": {
    "colab": {
     "base_uri": "https://localhost:8080/",
     "height": 34
    },
    "colab_type": "code",
    "id": "kQ1gTxkteYEE",
    "outputId": "44b31cbd-0c34-4a6a-a29f-5b2eb630750b"
   },
   "outputs": [
    {
     "name": "stdout",
     "output_type": "stream",
     "text": [
      "Vetor v2:\n",
      "[9 2 1] dimensão: (3,)\n",
      "Matriz A:\n",
      "[[2 0]\n",
      " [4 6]\n",
      " [8 2]] dimensão: (3, 2)\n",
      "operands could not be broadcast together with shapes (3,) (3,2) \n"
     ]
    }
   ],
   "source": [
    "print(\"Vetor v2:\")\n",
    "print(v2, \"dimensão:\", v2.shape)\n",
    "print(\"Matriz A:\")\n",
    "print(A, \"dimensão:\", A.shape)\n",
    "try:\n",
    "    v2 + A\n",
    "except Exception as e:\n",
    "    print(e)"
   ]
  },
  {
   "cell_type": "code",
   "execution_count": 73,
   "metadata": {
    "colab": {
     "base_uri": "https://localhost:8080/",
     "height": 34
    },
    "colab_type": "code",
    "id": "X5BP2ZSClM5t",
    "outputId": "c9fc5aa3-3c3b-4df6-dcd9-9b8047207c19"
   },
   "outputs": [
    {
     "name": "stdout",
     "output_type": "stream",
     "text": [
      "Matriz A:\n",
      "[[2 0]\n",
      " [4 6]\n",
      " [8 2]] dimensão: (3, 2)\n",
      "Matriz B:\n",
      "[[1 3]\n",
      " [5 7]] dimensão: (2, 2)\n",
      "operands could not be broadcast together with shapes (3,2) (2,2) \n"
     ]
    }
   ],
   "source": [
    "print(\"Matriz A:\")\n",
    "print(A, \"dimensão:\", A.shape)\n",
    "print(\"Matriz B:\")\n",
    "print(B, \"dimensão:\", B.shape)\n",
    "try:\n",
    "    A + B\n",
    "except Exception as e:\n",
    "    print(e)"
   ]
  },
  {
   "cell_type": "markdown",
   "metadata": {},
   "source": [
    "## Operações não-lineares"
   ]
  },
  {
   "cell_type": "markdown",
   "metadata": {},
   "source": [
    "$$\\begin{aligned}\n",
    "\\boldsymbol{A} &= \\begin{bmatrix}2 & 0\\\\ 4 & 6\\\\ 8 & 2\\end{bmatrix}\\\\\n",
    "\\mathtt{A ** 2} &= \\begin{bmatrix}2^2 & 0^2\\\\ 4^2 & 6^2\\\\ 8^2 & 2^2\\end{bmatrix}\n",
    "\\end{aligned}$$"
   ]
  },
  {
   "cell_type": "code",
   "execution_count": 74,
   "metadata": {},
   "outputs": [
    {
     "name": "stdout",
     "output_type": "stream",
     "text": [
      "[[ 4  0]\n",
      " [16 36]\n",
      " [64  4]]\n"
     ]
    }
   ],
   "source": [
    "print(A ** 2)"
   ]
  },
  {
   "cell_type": "markdown",
   "metadata": {},
   "source": [
    "$$\\begin{aligned}\n",
    "\\boldsymbol{A} &= \\begin{bmatrix}2 & 0\\\\ 4 & 6\\\\ 8 & 2\\end{bmatrix}\\\\\n",
    "\\mathtt{np.sqrt(A)} &= \\begin{bmatrix}\\sqrt{2} & \\sqrt{0}\\\\ \\sqrt{4} & \\sqrt{6}\\\\ \\sqrt{8} & \\sqrt{2}\\end{bmatrix}\\\\\n",
    "\\mathtt{A ** 0.5} &= \\begin{bmatrix}2^\\frac{1}{2} & 0^\\frac{1}{2}\\\\ 4^\\frac{1}{2} & 6^\\frac{1}{2}\\\\ 8^\\frac{1}{2} & 2^\\frac{1}{2}\\end{bmatrix}\n",
    "\\end{aligned}$$"
   ]
  },
  {
   "cell_type": "code",
   "execution_count": 75,
   "metadata": {},
   "outputs": [
    {
     "name": "stdout",
     "output_type": "stream",
     "text": [
      "[[1.41421356 0.        ]\n",
      " [2.         2.44948974]\n",
      " [2.82842712 1.41421356]]\n",
      "[[1.41421356 0.        ]\n",
      " [2.         2.44948974]\n",
      " [2.82842712 1.41421356]]\n"
     ]
    }
   ],
   "source": [
    "print(np.sqrt(A))\n",
    "print(A ** 0.5)"
   ]
  },
  {
   "cell_type": "markdown",
   "metadata": {},
   "source": [
    "## Operações de agregação"
   ]
  },
  {
   "cell_type": "markdown",
   "metadata": {},
   "source": [
    "$$\\begin{aligned}\n",
    "\\boldsymbol{A} &= \\begin{bmatrix}2 & 0\\\\ 4 & 6\\\\ 8 & 2\\end{bmatrix}\\\\\n",
    "\\mathtt{np.mean(A)} &= \\frac{2 + 0 + 4 + 6 + 8 + 2}{2\\cdot 3}\\\\\n",
    "\\mathtt{np.sum(A)} &= 2 + 0 + 4 + 6 + 8 + 2\\\\\n",
    "\\mathtt{np.prod(A)} &= 2 \\cdot 0 \\cdot 4 \\cdot 6 \\cdot 8 \\cdot 2\\\\\n",
    "\\end{aligned}$$"
   ]
  },
  {
   "cell_type": "code",
   "execution_count": 76,
   "metadata": {},
   "outputs": [
    {
     "data": {
      "text/plain": [
       "(np.float64(3.6666666666666665), np.int64(22), np.int64(0))"
      ]
     },
     "execution_count": 76,
     "metadata": {},
     "output_type": "execute_result"
    }
   ],
   "source": [
    "np.mean(A), np.sum(A), np.prod(A)"
   ]
  },
  {
   "cell_type": "code",
   "execution_count": 77,
   "metadata": {},
   "outputs": [
    {
     "data": {
      "text/plain": [
       "(np.float64(3.6666666666666665), np.int64(22), np.int64(0))"
      ]
     },
     "execution_count": 77,
     "metadata": {},
     "output_type": "execute_result"
    }
   ],
   "source": [
    "A.mean(), A.sum(), A.prod()"
   ]
  },
  {
   "cell_type": "markdown",
   "metadata": {},
   "source": [
    "$$\\begin{aligned}\n",
    "\\boldsymbol{A} &= \\begin{bmatrix}2 & 0\\\\ 4 & 6\\\\ 8 & 2\\end{bmatrix}\\\\\n",
    "\\mathtt{np.mean(A, axis=0)} &= \\frac{1}{3}\\begin{bmatrix}2 + 4 + 8 & 0 + 6 + 2\\end{bmatrix}\\\\\n",
    "\\mathtt{np.sum(A, axis=0)} &= \\begin{bmatrix}2 + 4 + 8 & 0 + 6 + 2\\end{bmatrix}\\\\\n",
    "\\mathtt{np.prod(A, axis=0)} &= \\begin{bmatrix}2 \\cdot 4 \\cdot 8 & 0 \\cdot 6 \\cdot 2\\end{bmatrix}\\\\\n",
    "\\end{aligned}$$"
   ]
  },
  {
   "cell_type": "code",
   "execution_count": 78,
   "metadata": {},
   "outputs": [
    {
     "data": {
      "text/plain": [
       "(array([4.66666667, 2.66666667]), array([14,  8]), array([64,  0]))"
      ]
     },
     "execution_count": 78,
     "metadata": {},
     "output_type": "execute_result"
    }
   ],
   "source": [
    "np.mean(A, axis=0), np.sum(A, axis=0), np.prod(A, axis=0)"
   ]
  },
  {
   "cell_type": "code",
   "execution_count": 79,
   "metadata": {},
   "outputs": [
    {
     "data": {
      "text/plain": [
       "(array([4.66666667, 2.66666667]), array([14,  8]), array([64,  0]))"
      ]
     },
     "execution_count": 79,
     "metadata": {},
     "output_type": "execute_result"
    }
   ],
   "source": [
    "A.mean(axis=0), A.sum(axis=0), A.prod(axis=0)"
   ]
  },
  {
   "cell_type": "markdown",
   "metadata": {},
   "source": [
    "$$\\begin{aligned}\n",
    "\\boldsymbol{A} &= \\begin{bmatrix}2 & 0\\\\ 4 & 6\\\\ 8 & 2\\end{bmatrix}\\\\\n",
    "\\mathtt{np.mean(A, axis=1)} &= \\frac{1}{2}\\begin{bmatrix}2 + 0 & 4 + 6 & 8 + 2\\end{bmatrix}\\\\\n",
    "\\mathtt{np.sum(A, axis=1)} &= \\begin{bmatrix}2 + 0 & 4 + 6 & 8 + 2\\end{bmatrix}\\\\\n",
    "\\mathtt{np.prod(A, axis=1)} &= \\begin{bmatrix}2 \\cdot 0 & 4 \\cdot 6 & 8 \\cdot 2\\end{bmatrix}\\\\\n",
    "\\end{aligned}$$"
   ]
  },
  {
   "cell_type": "code",
   "execution_count": 80,
   "metadata": {},
   "outputs": [
    {
     "data": {
      "text/plain": [
       "(array([1., 5., 5.]), array([ 2, 10, 10]), array([ 0, 24, 16]))"
      ]
     },
     "execution_count": 80,
     "metadata": {},
     "output_type": "execute_result"
    }
   ],
   "source": [
    "np.mean(A, axis=1), np.sum(A, axis=1), np.prod(A, axis=1)"
   ]
  },
  {
   "cell_type": "code",
   "execution_count": 81,
   "metadata": {},
   "outputs": [
    {
     "data": {
      "text/plain": [
       "(array([1., 5., 5.]), array([ 2, 10, 10]), array([ 0, 24, 16]))"
      ]
     },
     "execution_count": 81,
     "metadata": {},
     "output_type": "execute_result"
    }
   ],
   "source": [
    "A.mean(axis=1), A.sum(axis=1), A.prod(axis=1)"
   ]
  },
  {
   "cell_type": "code",
   "execution_count": 82,
   "metadata": {},
   "outputs": [
    {
     "data": {
      "text/plain": [
       "array([[4.66666667, 2.66666667]])"
      ]
     },
     "execution_count": 82,
     "metadata": {},
     "output_type": "execute_result"
    }
   ],
   "source": [
    "np.mean(A, axis=0, keepdims=True)"
   ]
  },
  {
   "cell_type": "code",
   "execution_count": 83,
   "metadata": {},
   "outputs": [
    {
     "data": {
      "text/plain": [
       "array([[4.66666667, 2.66666667]])"
      ]
     },
     "execution_count": 83,
     "metadata": {},
     "output_type": "execute_result"
    }
   ],
   "source": [
    "A.mean(axis=0, keepdims=True)"
   ]
  },
  {
   "cell_type": "code",
   "execution_count": 84,
   "metadata": {},
   "outputs": [
    {
     "data": {
      "text/plain": [
       "array([[-2.66666667, -2.66666667],\n",
       "       [-0.66666667,  3.33333333],\n",
       "       [ 3.33333333, -0.66666667]])"
      ]
     },
     "execution_count": 84,
     "metadata": {},
     "output_type": "execute_result"
    }
   ],
   "source": [
    "A - A.mean(axis=0, keepdims=True)"
   ]
  },
  {
   "cell_type": "markdown",
   "metadata": {
    "colab_type": "text",
    "id": "KfbeQa8DmjsG"
   },
   "source": [
    "## Multiplicação de Matrizes\n",
    "\n",
    "Para matrizes $\\boldsymbol{X} \\in \\mathbb{R}^{a\\times b}$ e $\\boldsymbol{Y} \\in \\mathbb{R}^{b\\times c}$, temos que\n",
    "$\\boldsymbol{XY} \\in \\mathbb{R}^{a\\times c}$. No Numpy, essa operação é representada por $\\texttt{X @ Y}$.\n",
    "\n",
    "A multiplicação é definida por:\n",
    "$$\\begin{aligned}\n",
    "(\\boldsymbol{XY})_{ij} = \\sum_k \\boldsymbol{X}_{ik}\\boldsymbol{Y}_{kj}\n",
    "\\end{aligned}$$"
   ]
  },
  {
   "cell_type": "code",
   "execution_count": 85,
   "metadata": {
    "colab": {
     "base_uri": "https://localhost:8080/",
     "height": 85
    },
    "colab_type": "code",
    "id": "gmHrXwu8khmU",
    "outputId": "74b4871d-d0fa-49f1-8940-0f98800ac753"
   },
   "outputs": [
    {
     "name": "stdout",
     "output_type": "stream",
     "text": [
      "[[ 2  6]\n",
      " [34 54]\n",
      " [18 38]]\n",
      "Dimensão de A @ B: (3, 2)\n"
     ]
    }
   ],
   "source": [
    "print(A @ B)\n",
    "print(\"Dimensão de A @ B:\", (A@B).shape)"
   ]
  },
  {
   "cell_type": "markdown",
   "metadata": {},
   "source": [
    "Cuidado com as dimensões das matrizes:"
   ]
  },
  {
   "cell_type": "code",
   "execution_count": 86,
   "metadata": {
    "colab": {
     "base_uri": "https://localhost:8080/",
     "height": 34
    },
    "colab_type": "code",
    "id": "4fXEq111mI3j",
    "outputId": "2ca04104-0df1-4c6c-bcf7-27461bc2e90d"
   },
   "outputs": [
    {
     "name": "stdout",
     "output_type": "stream",
     "text": [
      "matmul: Input operand 1 has a mismatch in its core dimension 0, with gufunc signature (n?,k),(k,m?)->(n?,m?) (size 3 is different from 2)\n"
     ]
    }
   ],
   "source": [
    "try:\n",
    "    B @ A\n",
    "except Exception as e:\n",
    "    print(e)"
   ]
  },
  {
   "cell_type": "code",
   "execution_count": 87,
   "metadata": {
    "colab": {
     "base_uri": "https://localhost:8080/",
     "height": 51
    },
    "colab_type": "code",
    "id": "yoshGOOdkoJq",
    "outputId": "eccfa558-b21a-425d-c05f-af3744c3dda9"
   },
   "outputs": [
    {
     "name": "stdout",
     "output_type": "stream",
     "text": [
      "[ 28 332 204]\n",
      "[ 28 332 204]\n"
     ]
    }
   ],
   "source": [
    "print(A @ B @ v1)\n",
    "print((A @ B) @ v1)"
   ]
  },
  {
   "cell_type": "markdown",
   "metadata": {
    "colab_type": "text",
    "id": "JZY4P3LcAZkL"
   },
   "source": [
    "### Inversão de matrizes\n",
    "Outra operação bastante comum é multiplicar uma matriz pela inversa dela...\n",
    "\n",
    "Seja $\\boldsymbol{B}$ uma matriz inversível, então $\\boldsymbol{B}^{-1} \\boldsymbol{B} = \\boldsymbol{I}$\n"
   ]
  },
  {
   "cell_type": "code",
   "execution_count": 88,
   "metadata": {
    "colab": {
     "base_uri": "https://localhost:8080/",
     "height": 136
    },
    "colab_type": "code",
    "id": "8BBG4KNVDVi-",
    "outputId": "42fba1b9-a2d3-4dbc-faf4-f73d9125f60c"
   },
   "outputs": [
    {
     "name": "stdout",
     "output_type": "stream",
     "text": [
      "[[1 3]\n",
      " [5 7]]\n"
     ]
    }
   ],
   "source": [
    "print(B)"
   ]
  },
  {
   "cell_type": "code",
   "execution_count": 89,
   "metadata": {
    "colab": {
     "base_uri": "https://localhost:8080/",
     "height": 136
    },
    "colab_type": "code",
    "id": "8BBG4KNVDVi-",
    "outputId": "42fba1b9-a2d3-4dbc-faf4-f73d9125f60c"
   },
   "outputs": [
    {
     "name": "stdout",
     "output_type": "stream",
     "text": [
      "[[-0.875  0.375]\n",
      " [ 0.625 -0.125]]\n"
     ]
    }
   ],
   "source": [
    "B_inv = np.linalg.inv(B)\n",
    "print(B_inv)"
   ]
  },
  {
   "cell_type": "code",
   "execution_count": 90,
   "metadata": {
    "colab": {
     "base_uri": "https://localhost:8080/",
     "height": 136
    },
    "colab_type": "code",
    "id": "8BBG4KNVDVi-",
    "outputId": "42fba1b9-a2d3-4dbc-faf4-f73d9125f60c"
   },
   "outputs": [
    {
     "name": "stdout",
     "output_type": "stream",
     "text": [
      "[[1. 0.]\n",
      " [0. 1.]]\n"
     ]
    }
   ],
   "source": [
    "print(B_inv @ B)"
   ]
  },
  {
   "cell_type": "markdown",
   "metadata": {},
   "source": [
    "A inversa pode ser usada no produto com vetores:\n",
    "$\\boldsymbol{B}^{-1} \\boldsymbol{v}_1$"
   ]
  },
  {
   "cell_type": "code",
   "execution_count": 91,
   "metadata": {
    "colab": {
     "base_uri": "https://localhost:8080/",
     "height": 34
    },
    "colab_type": "code",
    "id": "McWrAEwsEUz5",
    "outputId": "cf360686-bcbb-4ecf-8667-a8d6af27e838"
   },
   "outputs": [
    {
     "name": "stdout",
     "output_type": "stream",
     "text": [
      "[-3.25  2.75]\n"
     ]
    }
   ],
   "source": [
    "print(B_inv @ v1)"
   ]
  },
  {
   "cell_type": "markdown",
   "metadata": {
    "colab_type": "text",
    "id": "rIK8beRdEZBQ"
   },
   "source": [
    "Porém, existe uma outra forma mais eficiente de computar a mesma coisa:\n",
    "\n",
    "Se $\\boldsymbol{B}^{-1} \\boldsymbol{v}_1 = \\boldsymbol{x}$, então $\\boldsymbol{B} \\boldsymbol{x} = \\boldsymbol{v}_1$.\n",
    "Ou seja, estamos resolvendo o sistema de equações lineares com coeficientes $\\boldsymbol{B}$ e resultado $\\boldsymbol{v}_1$"
   ]
  },
  {
   "cell_type": "code",
   "execution_count": 92,
   "metadata": {
    "colab": {
     "base_uri": "https://localhost:8080/",
     "height": 34
    },
    "colab_type": "code",
    "id": "ImCfS6qjEeQF",
    "outputId": "fc2c7d0b-3bab-4d88-db07-290fe7023b5f"
   },
   "outputs": [
    {
     "name": "stdout",
     "output_type": "stream",
     "text": [
      "[-3.25  2.75]\n"
     ]
    }
   ],
   "source": [
    "print(np.linalg.solve(B,v1))"
   ]
  },
  {
   "cell_type": "markdown",
   "metadata": {
    "colab_type": "text",
    "id": "n24XQHP9FRUi"
   },
   "source": [
    "## Leitura de arquivos com dados\n",
    "\n",
    "Normalmente os dados na disciplina serão recebidos no formato CSV. Isso significa que o dado é estruturado da seguinte maneira:\n",
    "```\n",
    "idade,pressão_sanguínea # Um cabeçalho opcional\n",
    "39,144 # Dados separados por vírgulas ou outro separador\n",
    "47,220\n",
    "....\n",
    "```"
   ]
  },
  {
   "cell_type": "code",
   "execution_count": 93,
   "metadata": {
    "colab": {},
    "colab_type": "code",
    "id": "QOUfDIt7GPCb"
   },
   "outputs": [
    {
     "data": {
      "text/plain": [
       "array([[ 39., 144.],\n",
       "       [ 47., 220.],\n",
       "       [ 45., 138.],\n",
       "       [ 47., 145.],\n",
       "       [ 65., 162.],\n",
       "       [ 46., 142.],\n",
       "       [ 67., 170.],\n",
       "       [ 42., 124.],\n",
       "       [ 67., 158.],\n",
       "       [ 56., 154.],\n",
       "       [ 64., 162.],\n",
       "       [ 56., 150.],\n",
       "       [ 59., 140.],\n",
       "       [ 34., 110.],\n",
       "       [ 42., 128.],\n",
       "       [ 48., 130.],\n",
       "       [ 45., 135.],\n",
       "       [ 17., 114.],\n",
       "       [ 20., 116.],\n",
       "       [ 19., 124.],\n",
       "       [ 36., 136.],\n",
       "       [ 50., 142.],\n",
       "       [ 39., 120.],\n",
       "       [ 21., 120.],\n",
       "       [ 44., 160.],\n",
       "       [ 53., 158.],\n",
       "       [ 63., 144.],\n",
       "       [ 29., 130.],\n",
       "       [ 25., 125.],\n",
       "       [ 69., 175.]])"
      ]
     },
     "execution_count": 93,
     "metadata": {},
     "output_type": "execute_result"
    }
   ],
   "source": [
    "pressao_dataset = np.genfromtxt('./pressão.txt', delimiter=',', skip_header=1)\n",
    "pressao_dataset"
   ]
  },
  {
   "cell_type": "markdown",
   "metadata": {},
   "source": [
    "```\n",
    "# idade, temperatura da água, comprimento\n",
    "14,25,620\n",
    "28,25,1315\n",
    "....\n",
    "```"
   ]
  },
  {
   "cell_type": "code",
   "execution_count": 94,
   "metadata": {},
   "outputs": [
    {
     "data": {
      "text/plain": [
       "array([[  14.,   25.,  620.],\n",
       "       [  28.,   25., 1315.],\n",
       "       [  41.,   25., 2120.],\n",
       "       [  55.,   25., 2600.],\n",
       "       [  69.,   25., 3110.],\n",
       "       [  83.,   25., 3535.],\n",
       "       [  97.,   25., 3935.],\n",
       "       [ 111.,   25., 4465.],\n",
       "       [ 125.,   25., 4530.],\n",
       "       [ 139.,   25., 4570.],\n",
       "       [ 153.,   25., 4600.],\n",
       "       [  14.,   27.,  625.],\n",
       "       [  28.,   27., 1215.],\n",
       "       [  41.,   27., 2110.],\n",
       "       [  55.,   27., 2805.],\n",
       "       [  69.,   27., 3255.],\n",
       "       [  83.,   27., 4015.],\n",
       "       [  97.,   27., 4315.],\n",
       "       [ 111.,   27., 4495.],\n",
       "       [ 125.,   27., 4535.],\n",
       "       [ 139.,   27., 4600.],\n",
       "       [ 153.,   27., 4600.],\n",
       "       [  14.,   29.,  590.],\n",
       "       [  28.,   29., 1305.],\n",
       "       [  41.,   29., 2140.],\n",
       "       [  55.,   29., 2890.],\n",
       "       [  69.,   29., 3920.],\n",
       "       [  83.,   29., 3920.],\n",
       "       [  97.,   29., 4515.],\n",
       "       [ 111.,   29., 4520.],\n",
       "       [ 125.,   29., 4525.],\n",
       "       [ 139.,   29., 4565.],\n",
       "       [ 153.,   29., 4566.],\n",
       "       [  14.,   31.,  590.],\n",
       "       [  28.,   31., 1205.],\n",
       "       [  41.,   31., 1915.],\n",
       "       [  55.,   31., 2140.],\n",
       "       [  69.,   31., 2710.],\n",
       "       [  83.,   31., 3020.],\n",
       "       [  97.,   31., 3030.],\n",
       "       [ 111.,   31., 3040.],\n",
       "       [ 125.,   31., 3180.],\n",
       "       [ 139.,   31., 3257.],\n",
       "       [ 153.,   31., 3214.]])"
      ]
     },
     "execution_count": 94,
     "metadata": {},
     "output_type": "execute_result"
    }
   ],
   "source": [
    "peixe_dataset = np.genfromtxt('./peixe.txt', delimiter=',')\n",
    "peixe_dataset"
   ]
  },
  {
   "cell_type": "markdown",
   "metadata": {
    "colab_type": "text",
    "id": "dDlFNckOEiwA"
   },
   "source": [
    "## Exercícios"
   ]
  },
  {
   "cell_type": "markdown",
   "metadata": {
    "colab_type": "text",
    "id": "cC-WOVEAEsph"
   },
   "source": [
    "### Computar a fórmula da normalização escore-Z\n",
    "\n",
    "Dado um conjunto de dados $\\boldsymbol{X} = [\\boldsymbol{x}_1, \\boldsymbol{x}_1, \\ldots, \\boldsymbol{x}_N]$, a normalização por escore-Z é dada por:\n",
    "$$\\tilde{\\boldsymbol{x_i}} = \\frac{\\boldsymbol{x_i} - \\boldsymbol{\\mu}}{\\boldsymbol{\\sigma}}$$\n",
    "\n",
    "Onde:\n",
    "$$\\begin{aligned}\n",
    "\\boldsymbol{\\mu} &= \\frac{1}{N}\\sum_i^N \\boldsymbol{x_i}\\\\\n",
    "\\boldsymbol{\\sigma} &= \\sqrt{\\frac{1}{N-1}\\sum_i^N (\\boldsymbol{x_i}-\\boldsymbol{\\mu})^2}\\\\\n",
    "\\end{aligned}$$\n",
    "\n",
    "A \"desnormalização\" pode ser feita por:\n",
    "$$\\boldsymbol{x_i} = \\boldsymbol{\\sigma}\\tilde{\\boldsymbol{x_i}} + \\boldsymbol{\\mu}$$\n",
    "\n",
    "Use a fórmula para normalizar o conjunto de dados `peixe` sem usar nenhum `for` ou `while`."
   ]
  },
  {
   "cell_type": "code",
   "execution_count": 95,
   "metadata": {
    "tags": []
   },
   "outputs": [],
   "source": [
    "# Escreva o código aqui\n",
    "\n",
    "X = peixe_dataset.copy()\n",
    "N = X.shape[0]\n",
    "\n",
    "mean = (1/N) * np.sum(X, axis=0)\n",
    "std = np.sqrt((1/(N-1)) * np.sum((X - mean) ** 2, axis=0))\n"
   ]
  },
  {
   "cell_type": "code",
   "execution_count": 96,
   "metadata": {},
   "outputs": [],
   "source": [
    "x_norm = (X - mean) / std\n",
    "x_rebuild = x_norm * std + mean\n"
   ]
  },
  {
   "cell_type": "code",
   "execution_count": 97,
   "metadata": {},
   "outputs": [
    {
     "data": {
      "text/plain": [
       "array([[-1.55384675, -1.32630725, -1.87170902],\n",
       "       [-1.23940207, -1.32630725, -1.34874483],\n",
       "       [-0.94741773, -1.32630725, -0.74300933],\n",
       "       [-0.63297305, -1.32630725, -0.38182543],\n",
       "       [-0.31852837, -1.32630725,  0.00193247],\n",
       "       [-0.0040837 , -1.32630725,  0.32173072],\n",
       "       [ 0.31036098, -1.32630725,  0.6227173 ],\n",
       "       [ 0.62480566, -1.32630725,  1.02152453],\n",
       "       [ 0.93925034, -1.32630725,  1.07043485],\n",
       "       [ 1.25369501, -1.32630725,  1.10053351],\n",
       "       [ 1.56813969, -1.32630725,  1.1231075 ],\n",
       "       [-1.55384675, -0.44210242, -1.86794669],\n",
       "       [-1.23940207, -0.44210242, -1.42399148],\n",
       "       [-0.94741773, -0.44210242, -0.75053399],\n",
       "       [-0.63297305, -0.44210242, -0.2275698 ],\n",
       "       [-0.31852837, -0.44210242,  0.11104011],\n",
       "       [-0.0040837 , -0.44210242,  0.68291462],\n",
       "       [ 0.31036098, -0.44210242,  0.90865456],\n",
       "       [ 0.62480566, -0.44210242,  1.04409852],\n",
       "       [ 0.93925034, -0.44210242,  1.07419718],\n",
       "       [ 1.25369501, -0.44210242,  1.1231075 ],\n",
       "       [ 1.56813969, -0.44210242,  1.1231075 ],\n",
       "       [-1.55384675,  0.44210242, -1.89428302],\n",
       "       [-1.23940207,  0.44210242, -1.3562695 ],\n",
       "       [-0.94741773,  0.44210242, -0.72796   ],\n",
       "       [-0.63297305,  0.44210242, -0.16361015],\n",
       "       [-0.31852837,  0.44210242,  0.61143031],\n",
       "       [-0.0040837 ,  0.44210242,  0.61143031],\n",
       "       [ 0.31036098,  0.44210242,  1.05914785],\n",
       "       [ 0.62480566,  0.44210242,  1.06291018],\n",
       "       [ 0.93925034,  0.44210242,  1.06667252],\n",
       "       [ 1.25369501,  0.44210242,  1.09677117],\n",
       "       [ 1.56813969,  0.44210242,  1.09752364],\n",
       "       [-1.55384675,  1.32630725, -1.89428302],\n",
       "       [-1.23940207,  1.32630725, -1.43151614],\n",
       "       [-0.94741773,  1.32630725, -0.89726495],\n",
       "       [-0.63297305,  1.32630725, -0.72796   ],\n",
       "       [-0.31852837,  1.32630725, -0.29905411],\n",
       "       [-0.0040837 ,  1.32630725, -0.06578951],\n",
       "       [ 0.31036098,  1.32630725, -0.05826485],\n",
       "       [ 0.62480566,  1.32630725, -0.05074018],\n",
       "       [ 0.93925034,  1.32630725,  0.05460512],\n",
       "       [ 1.25369501,  1.32630725,  0.11254504],\n",
       "       [ 1.56813969,  1.32630725,  0.08018898]])"
      ]
     },
     "execution_count": 97,
     "metadata": {},
     "output_type": "execute_result"
    }
   ],
   "source": [
    "x_norm"
   ]
  },
  {
   "cell_type": "code",
   "execution_count": 98,
   "metadata": {},
   "outputs": [
    {
     "data": {
      "text/plain": [
       "array([[  14.,   25.,  620.],\n",
       "       [  28.,   25., 1315.],\n",
       "       [  41.,   25., 2120.],\n",
       "       [  55.,   25., 2600.],\n",
       "       [  69.,   25., 3110.],\n",
       "       [  83.,   25., 3535.],\n",
       "       [  97.,   25., 3935.],\n",
       "       [ 111.,   25., 4465.],\n",
       "       [ 125.,   25., 4530.],\n",
       "       [ 139.,   25., 4570.],\n",
       "       [ 153.,   25., 4600.],\n",
       "       [  14.,   27.,  625.],\n",
       "       [  28.,   27., 1215.],\n",
       "       [  41.,   27., 2110.],\n",
       "       [  55.,   27., 2805.],\n",
       "       [  69.,   27., 3255.],\n",
       "       [  83.,   27., 4015.],\n",
       "       [  97.,   27., 4315.],\n",
       "       [ 111.,   27., 4495.],\n",
       "       [ 125.,   27., 4535.],\n",
       "       [ 139.,   27., 4600.],\n",
       "       [ 153.,   27., 4600.],\n",
       "       [  14.,   29.,  590.],\n",
       "       [  28.,   29., 1305.],\n",
       "       [  41.,   29., 2140.],\n",
       "       [  55.,   29., 2890.],\n",
       "       [  69.,   29., 3920.],\n",
       "       [  83.,   29., 3920.],\n",
       "       [  97.,   29., 4515.],\n",
       "       [ 111.,   29., 4520.],\n",
       "       [ 125.,   29., 4525.],\n",
       "       [ 139.,   29., 4565.],\n",
       "       [ 153.,   29., 4566.],\n",
       "       [  14.,   31.,  590.],\n",
       "       [  28.,   31., 1205.],\n",
       "       [  41.,   31., 1915.],\n",
       "       [  55.,   31., 2140.],\n",
       "       [  69.,   31., 2710.],\n",
       "       [  83.,   31., 3020.],\n",
       "       [  97.,   31., 3030.],\n",
       "       [ 111.,   31., 3040.],\n",
       "       [ 125.,   31., 3180.],\n",
       "       [ 139.,   31., 3257.],\n",
       "       [ 153.,   31., 3214.]])"
      ]
     },
     "execution_count": 98,
     "metadata": {},
     "output_type": "execute_result"
    }
   ],
   "source": [
    "x_rebuild\n"
   ]
  },
  {
   "cell_type": "markdown",
   "metadata": {
    "colab_type": "text",
    "id": "cC-WOVEAEsph"
   },
   "source": [
    "### Encontrar raízes de funções\n",
    "\n",
    "Dada uma função $f$, o seguinte procedimento (método de Newton-Raphson) consegue encontrar aproximar zeros desta função:\n",
    "\n",
    "1. Inicialize $\\tilde{x}_0$ com um chute inicial e escolha uma tolerância $\\epsilon$;\n",
    "2. Compute: $$\\tilde{x}_{t} = \\tilde{x}_{t-1} - \\frac{f(\\tilde{x}_{t-1})}{f'(\\tilde{x}_{t-1})}$$\n",
    "3. Repita o passo 2 até que $f(\\tilde{x}_t) \\leq \\epsilon$.\n",
    "\n",
    "Implemente esse procedimento para $f(x) = x^2 - 2$, teste seu resultado computando $\\tilde{x} \\cdot \\tilde{x}$."
   ]
  },
  {
   "cell_type": "code",
   "execution_count": 99,
   "metadata": {
    "tags": []
   },
   "outputs": [
    {
     "name": "stdout",
     "output_type": "stream",
     "text": [
      "Newton-Raphson: 1.4142135623746899\n",
      "x * x = 2.0000000000045106\n"
     ]
    }
   ],
   "source": [
    "# Escreva o código aqui\n",
    "def f(x):\n",
    "    return x**2 - 2\n",
    "\n",
    "def f_deriv(x):\n",
    "    return 2*x\n",
    "\n",
    "def newton_raphson(x0, epsilon=1e-4, max_iter=100):\n",
    "    x_vec = np.empty(max_iter + 1)\n",
    "    x_vec[0] = x0\n",
    "\n",
    "    for i in range(1, max_iter + 1):\n",
    "        fx = f(x_vec[i - 1])\n",
    "        fpx = f_deriv(x_vec[i - 1])\n",
    "        x_vec[i] = x_vec[i - 1] - fx / fpx\n",
    "\n",
    "        if np.abs(fx) < epsilon:\n",
    "            return x_vec[i]\n",
    "\n",
    "    return None\n",
    "\n",
    "x_approx = newton_raphson(1.0)\n",
    "print(f\"Newton-Raphson: {x_approx}\")\n",
    "print(f\"x * x = {x_approx * x_approx}\")\n"
   ]
  },
  {
   "cell_type": "markdown",
   "metadata": {},
   "source": [
    "# Regressão linear via mínimos quadrados ordinários (OLS)\n",
    "\n",
    "Como visto na aula de regressão linear, dado o seguinte problema:\n",
    "$$\\begin{aligned}\n",
    "\\hat{\\boldsymbol{y}} = \\boldsymbol{X}\\boldsymbol{w}\\\\\n",
    "\\text{Queremos encontrar:}\\\\\n",
    "\\hat{\\boldsymbol{w}} = \\arg\\min_{\\boldsymbol{w}} ||\\boldsymbol{y} - \\boldsymbol{X}\\boldsymbol{w}||^2\n",
    "\\end{aligned}$$\n",
    "\n",
    "Como visto, sabemos que:\n",
    "$$\\hat{\\boldsymbol{w}} = (\\boldsymbol{X}^{\\top}\\boldsymbol{X})^{-1} \\boldsymbol{X}^{\\top}\\boldsymbol{y}$$\n",
    "\n",
    "Obtenha um modelo linear para predizer o comprimento de um peixe a partir de sua idade e da temperatura da água. Para isso, encontre o $\\hat{\\boldsymbol{w}}$ pro dataset `peixe` onde:\n",
    "$$\\boldsymbol{X} = [\\mathbf{1}^{\\top} \\;,\\; \\mathtt{peixe\\underline{}dataset[:,[0,1]}]\\\\\n",
    "\\boldsymbol{y} = \\mathtt{peixe\\underline{}dataset[:,[2]]}$$\n",
    "\n",
    "Sem utilizar estrutura de repetição alguma, calcule a raíz do erro quadrático médio:\n",
    "$$\\mathrm{RMSE} = \\sqrt{\\frac{1}{n}\\sum_i^n (\\boldsymbol{y} - \\hat{\\boldsymbol{y}})^2}$$"
   ]
  },
  {
   "cell_type": "code",
   "execution_count": 100,
   "metadata": {
    "tags": []
   },
   "outputs": [],
   "source": [
    "# Escreva o código aqui\n",
    "m_ones = np.ones((peixe_dataset.shape[0], 1))\n",
    "X = np.hstack((m_ones, peixe_dataset[:, [0,1]]))\n",
    "y = peixe_dataset[:, [2]]"
   ]
  },
  {
   "cell_type": "code",
   "execution_count": 101,
   "metadata": {},
   "outputs": [],
   "source": [
    "A = X.T @ X\n",
    "b = X.T @ y\n",
    "\n",
    "w_hat = np.linalg.solve(A, b)"
   ]
  },
  {
   "cell_type": "code",
   "execution_count": 102,
   "metadata": {},
   "outputs": [
    {
     "data": {
      "text/plain": [
       "array([[1611.29465238],\n",
       "       [1978.6641971 ],\n",
       "       [2319.79306006],\n",
       "       [2687.16260478],\n",
       "       [3054.5321495 ],\n",
       "       [3421.90169422],\n",
       "       [3789.27123895],\n",
       "       [4156.64078367],\n",
       "       [4524.01032839],\n",
       "       [4891.37987311],\n",
       "       [5258.74941783],\n",
       "       [1398.46737966],\n",
       "       [1765.83692438],\n",
       "       [2106.96578733],\n",
       "       [2474.33533205],\n",
       "       [2841.70487678],\n",
       "       [3209.0744215 ],\n",
       "       [3576.44396622],\n",
       "       [3943.81351094],\n",
       "       [4311.18305566],\n",
       "       [4678.55260038],\n",
       "       [5045.9221451 ],\n",
       "       [1185.64010693],\n",
       "       [1553.00965165],\n",
       "       [1894.13851461],\n",
       "       [2261.50805933],\n",
       "       [2628.87760405],\n",
       "       [2996.24714877],\n",
       "       [3363.61669349],\n",
       "       [3730.98623821],\n",
       "       [4098.35578293],\n",
       "       [4465.72532766],\n",
       "       [4833.09487238],\n",
       "       [ 972.8128342 ],\n",
       "       [1340.18237892],\n",
       "       [1681.31124188],\n",
       "       [2048.6807866 ],\n",
       "       [2416.05033132],\n",
       "       [2783.41987604],\n",
       "       [3150.78942076],\n",
       "       [3518.15896549],\n",
       "       [3885.52851021],\n",
       "       [4252.89805493],\n",
       "       [4620.26759965]])"
      ]
     },
     "execution_count": 102,
     "metadata": {},
     "output_type": "execute_result"
    }
   ],
   "source": [
    "y_pred = X @ w_hat\n",
    "y_pred"
   ]
  },
  {
   "cell_type": "code",
   "execution_count": 103,
   "metadata": {},
   "outputs": [
    {
     "name": "stdout",
     "output_type": "stream",
     "text": [
      "RMSE: 579.1819827887997\n"
     ]
    }
   ],
   "source": [
    "rmse = np.sqrt((1/N) * np.sum((y - y_pred) ** 2))\n",
    "print(\"RMSE:\", rmse)"
   ]
  },
  {
   "cell_type": "markdown",
   "metadata": {},
   "source": [
    "# Regressão linear via gradiente descendente (GD)\n",
    "\n",
    "Sendo $\\alpha$ um passo de aprendizagem, $N$ o número de observações disponíveis e $t$ a iteração atual do algoritmo, os parâmetros $\\boldsymbol{w}$ podem ser atualizados via algoritmo GD:\n",
    "\n",
    "$$\\boldsymbol{w}(t) = \\boldsymbol{w}(t-1) + \\alpha \\frac{1}{N}\\sum_{i=1}^{N} e_i(t-1) \\boldsymbol{x}_i,$$\n",
    "$$\\text{em que } e_i(t-1) = y_i - \\boldsymbol{w}^{\\top}(t-1)\\boldsymbol{x}_i$$\n",
    "\n",
    "Normalize os dados retirando a média e dividindo pelo desvio padrão (entrada e saída). Na predição, desfaça a normalização para computar o RMSE."
   ]
  },
  {
   "cell_type": "code",
   "execution_count": 228,
   "metadata": {},
   "outputs": [],
   "source": [
    "# Escreva o código aqui\n",
    "peixe_dataset = np.genfromtxt('./peixe.txt', delimiter=',')\n",
    "\n",
    "X = np.c_[peixe_dataset[:, 0], peixe_dataset[:, 1]]\n",
    "y = peixe_dataset[:, [2]]\n",
    "\n",
    "alpha = 1e-1\n",
    "num_epochs = 100\n",
    "\n",
    "def gradient_descent(alpha, num_epochs, X, y):\n",
    "    N = X.shape[0]\n",
    "\n",
    "    X_mean, X_std = X.mean(axis=0), X.std(axis=0)\n",
    "    y_mean, y_std = y.mean(), y.std()\n",
    "\n",
    "    X_norm = (X - X_mean) / X_std\n",
    "    y_norm = (y - y_mean) / y_std\n",
    "    y_norm = y_norm.reshape(-1, 1)\n",
    "\n",
    "    X_b = np.c_[np.ones((N, 1)), X_norm]\n",
    "    w = np.random.randn(X_b.shape[1], 1)\n",
    "\n",
    "    losses = []\n",
    "\n",
    "    for epoch in range(num_epochs):\n",
    "        y_pred_norm = X_b @ w\n",
    "        errors = y_norm - y_pred_norm\n",
    "\n",
    "        gradients = (1 / N) * (X_b.T @ errors)\n",
    "        w += alpha * gradients\n",
    "\n",
    "        y_pred = y_pred_norm * y_std + y_mean\n",
    "        rmse = np.sqrt(np.mean((y - y_pred) ** 2))\n",
    "        losses.append(rmse)\n",
    "\n",
    "        print(f\"Época: {epoch}; RMSE: {rmse:.4f}\")\n",
    "\n",
    "    print(\"Pesos finais (w):\\n\", w)\n",
    "    return w, losses\n",
    "\n"
   ]
  },
  {
   "cell_type": "code",
   "execution_count": 229,
   "metadata": {},
   "outputs": [
    {
     "name": "stdout",
     "output_type": "stream",
     "text": [
      "Época: 0; RMSE: 1463.3946\n",
      "Época: 1; RMSE: 1341.0332\n",
      "Época: 2; RMSE: 1233.0514\n",
      "Época: 3; RMSE: 1138.1004\n",
      "Época: 4; RMSE: 1054.9439\n",
      "Época: 5; RMSE: 982.4409\n",
      "Época: 6; RMSE: 919.5324\n",
      "Época: 7; RMSE: 865.2301\n",
      "Época: 8; RMSE: 818.6089\n",
      "Época: 9; RMSE: 778.8026\n",
      "Época: 10; RMSE: 745.0020\n",
      "Época: 11; RMSE: 716.4555\n",
      "Época: 12; RMSE: 692.4707\n",
      "Época: 13; RMSE: 672.4162\n",
      "Época: 14; RMSE: 655.7226\n",
      "Época: 15; RMSE: 641.8826\n",
      "Época: 16; RMSE: 630.4495\n",
      "Época: 17; RMSE: 621.0344\n",
      "Época: 18; RMSE: 613.3023\n",
      "Época: 19; RMSE: 606.9670\n",
      "Época: 20; RMSE: 601.7866\n",
      "Época: 21; RMSE: 597.5575\n",
      "Época: 22; RMSE: 594.1099\n",
      "Época: 23; RMSE: 591.3026\n",
      "Época: 24; RMSE: 589.0189\n",
      "Época: 25; RMSE: 587.1625\n",
      "Época: 26; RMSE: 585.6546\n",
      "Época: 27; RMSE: 584.4303\n",
      "Época: 28; RMSE: 583.4368\n",
      "Época: 29; RMSE: 582.6308\n",
      "Época: 30; RMSE: 581.9771\n",
      "Época: 31; RMSE: 581.4470\n",
      "Época: 32; RMSE: 581.0174\n",
      "Época: 33; RMSE: 580.6691\n",
      "Época: 34; RMSE: 580.3868\n",
      "Época: 35; RMSE: 580.1581\n",
      "Época: 36; RMSE: 579.9728\n",
      "Época: 37; RMSE: 579.8226\n",
      "Época: 38; RMSE: 579.7009\n",
      "Época: 39; RMSE: 579.6024\n",
      "Época: 40; RMSE: 579.5225\n",
      "Época: 41; RMSE: 579.4578\n",
      "Época: 42; RMSE: 579.4054\n",
      "Época: 43; RMSE: 579.3630\n",
      "Época: 44; RMSE: 579.3286\n",
      "Época: 45; RMSE: 579.3007\n",
      "Época: 46; RMSE: 579.2782\n",
      "Época: 47; RMSE: 579.2599\n",
      "Época: 48; RMSE: 579.2451\n",
      "Época: 49; RMSE: 579.2331\n",
      "Época: 50; RMSE: 579.2234\n",
      "Época: 51; RMSE: 579.2155\n",
      "Época: 52; RMSE: 579.2092\n",
      "Época: 53; RMSE: 579.2040\n",
      "Época: 54; RMSE: 579.1998\n",
      "Época: 55; RMSE: 579.1964\n",
      "Época: 56; RMSE: 579.1937\n",
      "Época: 57; RMSE: 579.1915\n",
      "Época: 58; RMSE: 579.1897\n",
      "Época: 59; RMSE: 579.1882\n",
      "Época: 60; RMSE: 579.1870\n",
      "Época: 61; RMSE: 579.1861\n",
      "Época: 62; RMSE: 579.1853\n",
      "Época: 63; RMSE: 579.1847\n",
      "Época: 64; RMSE: 579.1842\n",
      "Época: 65; RMSE: 579.1837\n",
      "Época: 66; RMSE: 579.1834\n",
      "Época: 67; RMSE: 579.1831\n",
      "Época: 68; RMSE: 579.1829\n",
      "Época: 69; RMSE: 579.1827\n",
      "Época: 70; RMSE: 579.1826\n",
      "Época: 71; RMSE: 579.1825\n",
      "Época: 72; RMSE: 579.1824\n",
      "Época: 73; RMSE: 579.1823\n",
      "Época: 74; RMSE: 579.1822\n",
      "Época: 75; RMSE: 579.1822\n",
      "Época: 76; RMSE: 579.1822\n",
      "Época: 77; RMSE: 579.1821\n",
      "Época: 78; RMSE: 579.1821\n",
      "Época: 79; RMSE: 579.1821\n",
      "Época: 80; RMSE: 579.1821\n",
      "Época: 81; RMSE: 579.1820\n",
      "Época: 82; RMSE: 579.1820\n",
      "Época: 83; RMSE: 579.1820\n",
      "Época: 84; RMSE: 579.1820\n",
      "Época: 85; RMSE: 579.1820\n",
      "Época: 86; RMSE: 579.1820\n",
      "Época: 87; RMSE: 579.1820\n",
      "Época: 88; RMSE: 579.1820\n",
      "Época: 89; RMSE: 579.1820\n",
      "Época: 90; RMSE: 579.1820\n",
      "Época: 91; RMSE: 579.1820\n",
      "Época: 92; RMSE: 579.1820\n",
      "Época: 93; RMSE: 579.1820\n",
      "Época: 94; RMSE: 579.1820\n",
      "Época: 95; RMSE: 579.1820\n",
      "Época: 96; RMSE: 579.1820\n",
      "Época: 97; RMSE: 579.1820\n",
      "Época: 98; RMSE: 579.1820\n",
      "Época: 99; RMSE: 579.1820\n",
      "Pesos finais (w):\n",
      " [[ 1.68155042e-05]\n",
      " [ 8.79095447e-01]\n",
      " [-1.81111328e-01]]\n"
     ]
    },
    {
     "data": {
      "image/png": "[encoded data removed]",
      "text/plain": [
       "<Figure size 800x500 with 1 Axes>"
      ]
     },
     "metadata": {},
     "output_type": "display_data"
    }
   ],
   "source": [
    "alpha = 1e-1\n",
    "w, losses = gradient_descent(alpha, num_epochs, X, y)\n",
    "\n",
    "plt.figure(figsize=(8, 5))\n",
    "plt.plot(losses)\n",
    "plt.title(\"Custo GD\")\n",
    "plt.xlabel(\"Iterações\")\n",
    "plt.ylabel(\"RMSE\")\n",
    "plt.grid(True)\n",
    "plt.show()"
   ]
  },
  {
   "cell_type": "markdown",
   "metadata": {},
   "source": [
    "# Regressão linear via gradiente descendente estocástico (SGD)\n",
    "\n",
    "Sendo $\\alpha$ um passo de aprendizagem, $N$ o número de observações disponíveis e $t$ a iteração atual do algoritmo, os parâmetros $\\boldsymbol{w}$ podem ser atualizados via algoritmo SGD:\n",
    "\n",
    "$$\\boldsymbol{w}(t) = \\boldsymbol{w}(t-1) + \\alpha e_i(t-1) \\boldsymbol{x}_i,$$\n",
    "$$\\text{em que } e_i(t-1) = y_i - \\boldsymbol{w}^{\\top}(t-1)\\boldsymbol{x}_i$$\n",
    "\n",
    "Normalize os dados retirando a média e dividindo pelo desvio padrão (entrada e saída). Na predição, desfaça a normalização para computar o RMSE."
   ]
  },
  {
   "cell_type": "code",
   "execution_count": 230,
   "metadata": {},
   "outputs": [],
   "source": [
    "# Escreva o código aqui\n",
    "def stochastic_gradient_descent(alpha, num_epochs, X, y):\n",
    "    N = X.shape[0]\n",
    "\n",
    "    X_mean, X_std = X.mean(axis=0), X.std(axis=0)\n",
    "    y_mean, y_std = y.mean(), y.std()\n",
    "\n",
    "    X_norm = (X - X_mean) / X_std\n",
    "    y_norm = (y - y_mean) / y_std\n",
    "    y_norm = y_norm.reshape(-1, 1)\n",
    "\n",
    "    X_b = np.c_[np.ones((N, 1)), X_norm]\n",
    "    w = np.random.randn(X_b.shape[1], 1)\n",
    "\n",
    "    losses = []\n",
    "\n",
    "    for epoch in range(num_epochs):\n",
    "        indices = np.random.permutation(N)\n",
    "        X_b_shuffled = X_b[indices]\n",
    "        y_shuffled = y_norm[indices]\n",
    "\n",
    "        for j in range(N):\n",
    "            xj = X_b_shuffled[j:j+1]\n",
    "            yj = y_shuffled[j:j+1]\n",
    "\n",
    "            y_pred = xj @ w\n",
    "            error = yj - y_pred\n",
    "\n",
    "            w += alpha * error * xj.T\n",
    "\n",
    "        y_pred_norm = X_b @ w\n",
    "        y_pred = y_pred_norm * y_std + y_mean \n",
    "        rmse = np.sqrt(np.mean((y - y_pred)**2))\n",
    "        losses.append(rmse)\n",
    "\n",
    "        print(f\"Época: {epoch}; RMSE: {rmse:.4f}\")\n",
    "\n",
    "    print(\"Pesos finais (w):\\n\", w)\n",
    "    return w, losses\n"
   ]
  },
  {
   "cell_type": "code",
   "execution_count": 231,
   "metadata": {},
   "outputs": [
    {
     "name": "stdout",
     "output_type": "stream",
     "text": [
      "Época: 0; RMSE: 2407.4078\n",
      "Época: 1; RMSE: 1596.0489\n",
      "Época: 2; RMSE: 1118.4469\n",
      "Época: 3; RMSE: 840.3210\n",
      "Época: 4; RMSE: 699.8497\n",
      "Época: 5; RMSE: 632.4211\n",
      "Época: 6; RMSE: 602.8253\n",
      "Época: 7; RMSE: 588.8002\n",
      "Época: 8; RMSE: 582.8035\n",
      "Época: 9; RMSE: 581.0595\n",
      "Época: 10; RMSE: 580.2851\n",
      "Época: 11; RMSE: 579.7797\n",
      "Época: 12; RMSE: 579.2725\n",
      "Época: 13; RMSE: 579.2677\n",
      "Época: 14; RMSE: 579.2669\n",
      "Época: 15; RMSE: 579.3139\n",
      "Época: 16; RMSE: 579.2092\n",
      "Época: 17; RMSE: 579.1976\n",
      "Época: 18; RMSE: 579.2138\n",
      "Época: 19; RMSE: 579.2508\n",
      "Época: 20; RMSE: 579.3230\n",
      "Época: 21; RMSE: 579.2610\n",
      "Época: 22; RMSE: 579.2409\n",
      "Época: 23; RMSE: 579.2262\n",
      "Época: 24; RMSE: 579.2820\n",
      "Época: 25; RMSE: 579.2820\n",
      "Época: 26; RMSE: 579.2125\n",
      "Época: 27; RMSE: 579.2454\n",
      "Época: 28; RMSE: 579.2580\n",
      "Época: 29; RMSE: 579.2283\n",
      "Época: 30; RMSE: 579.2665\n",
      "Época: 31; RMSE: 579.3002\n",
      "Época: 32; RMSE: 579.2313\n",
      "Época: 33; RMSE: 579.2284\n",
      "Época: 34; RMSE: 579.2261\n",
      "Época: 35; RMSE: 579.3226\n",
      "Época: 36; RMSE: 579.2869\n",
      "Época: 37; RMSE: 579.2589\n",
      "Época: 38; RMSE: 579.3384\n",
      "Época: 39; RMSE: 579.3225\n",
      "Época: 40; RMSE: 579.3991\n",
      "Época: 41; RMSE: 579.2319\n",
      "Época: 42; RMSE: 579.2458\n",
      "Época: 43; RMSE: 579.2237\n",
      "Época: 44; RMSE: 579.1912\n",
      "Época: 45; RMSE: 579.2290\n",
      "Época: 46; RMSE: 579.2304\n",
      "Época: 47; RMSE: 579.3471\n",
      "Época: 48; RMSE: 579.3040\n",
      "Época: 49; RMSE: 579.2440\n",
      "Época: 50; RMSE: 579.2526\n",
      "Época: 51; RMSE: 579.2307\n",
      "Época: 52; RMSE: 579.2368\n",
      "Época: 53; RMSE: 579.2347\n",
      "Época: 54; RMSE: 579.2473\n",
      "Época: 55; RMSE: 579.2373\n",
      "Época: 56; RMSE: 579.1861\n",
      "Época: 57; RMSE: 579.2499\n",
      "Época: 58; RMSE: 579.2138\n",
      "Época: 59; RMSE: 579.3014\n",
      "Época: 60; RMSE: 579.3861\n",
      "Época: 61; RMSE: 579.3223\n",
      "Época: 62; RMSE: 579.3725\n",
      "Época: 63; RMSE: 579.2218\n",
      "Época: 64; RMSE: 579.2322\n",
      "Época: 65; RMSE: 579.2401\n",
      "Época: 66; RMSE: 579.3294\n",
      "Época: 67; RMSE: 579.2495\n",
      "Época: 68; RMSE: 579.3346\n",
      "Época: 69; RMSE: 579.2646\n",
      "Época: 70; RMSE: 579.2294\n",
      "Época: 71; RMSE: 579.2427\n",
      "Época: 72; RMSE: 579.2686\n",
      "Época: 73; RMSE: 579.2819\n",
      "Época: 74; RMSE: 579.4083\n",
      "Época: 75; RMSE: 579.3746\n",
      "Época: 76; RMSE: 579.3538\n",
      "Época: 77; RMSE: 579.3134\n",
      "Época: 78; RMSE: 579.2796\n",
      "Época: 79; RMSE: 579.3268\n",
      "Época: 80; RMSE: 579.3625\n",
      "Época: 81; RMSE: 579.1951\n",
      "Época: 82; RMSE: 579.1984\n",
      "Época: 83; RMSE: 579.2509\n",
      "Época: 84; RMSE: 579.1969\n",
      "Época: 85; RMSE: 579.2786\n",
      "Época: 86; RMSE: 579.3041\n",
      "Época: 87; RMSE: 579.2855\n",
      "Época: 88; RMSE: 579.2026\n",
      "Época: 89; RMSE: 579.2124\n",
      "Época: 90; RMSE: 579.2759\n",
      "Época: 91; RMSE: 579.1978\n",
      "Época: 92; RMSE: 579.2686\n",
      "Época: 93; RMSE: 579.3661\n",
      "Época: 94; RMSE: 579.5845\n",
      "Época: 95; RMSE: 579.2811\n",
      "Época: 96; RMSE: 579.2072\n",
      "Época: 97; RMSE: 579.2901\n",
      "Época: 98; RMSE: 579.2583\n",
      "Época: 99; RMSE: 579.2018\n",
      "Pesos finais (w):\n",
      " [[-0.00149832]\n",
      " [ 0.88243004]\n",
      " [-0.18135623]]\n"
     ]
    },
    {
     "data": {
      "image/png": "[encoded data removed]",
      "text/plain": [
       "<Figure size 800x500 with 1 Axes>"
      ]
     },
     "metadata": {},
     "output_type": "display_data"
    }
   ],
   "source": [
    "alpha=1e-2\n",
    "\n",
    "w, losses = stochastic_gradient_descent(alpha, num_epochs, X, y)\n",
    "\n",
    "plt.figure(figsize=(8, 5))\n",
    "plt.plot(losses)\n",
    "plt.title(\"Custo SGD\")\n",
    "plt.xlabel(\"Iterações\")\n",
    "plt.ylabel(\"RMSE\")\n",
    "plt.grid(True)\n",
    "plt.show()"
   ]
  },
  {
   "cell_type": "code",
   "execution_count": null,
   "metadata": {},
   "outputs": [],
   "source": []
  }
 ],
 "metadata": {
  "colab": {
   "collapsed_sections": [],
   "name": "AulaNumpy.ipynb",
   "provenance": [],
   "toc_visible": true
  },
  "kernelspec": {
   "display_name": "ama",
   "language": "python",
   "name": "python3"
  },
  "language_info": {
   "codemirror_mode": {
    "name": "ipython",
    "version": 3
   },
   "file_extension": ".py",
   "mimetype": "text/x-python",
   "name": "python",
   "nbconvert_exporter": "python",
   "pygments_lexer": "ipython3",
   "version": "3.12.10"
  },
  "varInspector": {
   "cols": {
    "lenName": 16,
    "lenType": 16,
    "lenVar": 40
   },
   "kernels_config": {
    "python": {
     "delete_cmd_postfix": "",
     "delete_cmd_prefix": "del ",
     "library": "var_list.py",
     "varRefreshCmd": "print(var_dic_list())"
    },
    "r": {
     "delete_cmd_postfix": ") ",
     "delete_cmd_prefix": "rm(",
     "library": "var_list.r",
     "varRefreshCmd": "cat(var_dic_list()) "
    }
   },
   "types_to_exclude": [
    "module",
    "function",
    "builtin_function_or_method",
    "instance",
    "_Feature"
   ],
   "window_display": false
  }
 },
 "nbformat": 4,
 "nbformat_minor": 4
}
